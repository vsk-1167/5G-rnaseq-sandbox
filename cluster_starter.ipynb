{
 "cells": [
  {
   "cell_type": "markdown",
   "metadata": {},
   "source": [
    "# Clustering exploration"
   ]
  },
  {
   "cell_type": "code",
   "execution_count": 1,
   "metadata": {},
   "outputs": [],
   "source": [
    "import altair as alt\n",
    "import pandas as pd\n",
    "import numpy as np\n",
    "import matplotlib.pyplot as plt\n",
    "import seaborn as sns\n",
    "from sklearn.decomposition import PCA\n",
    "from sklearn.preprocessing import StandardScaler\n",
    "from sklearn.cluster import KMeans\n",
    "from collections import defaultdict"
   ]
  },
  {
   "cell_type": "markdown",
   "metadata": {},
   "source": [
    "## load dfs from PCA file"
   ]
  },
  {
   "cell_type": "code",
   "execution_count": 2,
   "metadata": {},
   "outputs": [],
   "source": [
    "dft_piv = pd.read_csv(\"mat_save/dft_piv.tsv\",sep='\\t').fillna('')\n",
    "mdf_piv = pd.read_csv(\"mat_save/mdf_piv.tsv\",sep='\\t').fillna('')\n",
    "mdf_piv_norm = pd.read_csv(\"mat_save/mdf_piv_norm.tsv\",sep='\\t').fillna('')\n",
    "mdf_piv_norm_nocu = pd.read_csv(\"mat_save/mdf_piv_norm_nocu.tsv\",sep='\\t').fillna('')\n",
    "mdf_piv_norm_nocu_subset = pd.read_csv(\"mat_save/mdf_piv_norm_nocu_subset.tsv\",sep='\\t').fillna('')\n"
   ]
  },
  {
   "cell_type": "code",
   "execution_count": 3,
   "metadata": {},
   "outputs": [
    {
     "data": {
      "text/html": [
       "<div>\n",
       "<style scoped>\n",
       "    .dataframe tbody tr th:only-of-type {\n",
       "        vertical-align: middle;\n",
       "    }\n",
       "\n",
       "    .dataframe tbody tr th {\n",
       "        vertical-align: top;\n",
       "    }\n",
       "\n",
       "    .dataframe thead th {\n",
       "        text-align: right;\n",
       "    }\n",
       "</style>\n",
       "<table border=\"1\" class=\"dataframe\">\n",
       "  <thead>\n",
       "    <tr style=\"text-align: right;\">\n",
       "      <th></th>\n",
       "      <th>locus_tag</th>\n",
       "      <th>LanzaTech</th>\n",
       "      <th>MeOH</th>\n",
       "      <th>NO3_lowO2_slow_growth</th>\n",
       "      <th>NoCu</th>\n",
       "      <th>NoLanthanum</th>\n",
       "      <th>WT_control</th>\n",
       "      <th>WithLanthanum</th>\n",
       "      <th>aa3_KO</th>\n",
       "      <th>crotonic_acid</th>\n",
       "      <th>...</th>\n",
       "      <th>unknown</th>\n",
       "      <th>gene_symbol</th>\n",
       "      <th>product</th>\n",
       "      <th>type</th>\n",
       "      <th>sys</th>\n",
       "      <th>pc1</th>\n",
       "      <th>pc2</th>\n",
       "      <th>pc3</th>\n",
       "      <th>tsne1</th>\n",
       "      <th>tsne2</th>\n",
       "    </tr>\n",
       "  </thead>\n",
       "  <tbody>\n",
       "    <tr>\n",
       "      <th>0</th>\n",
       "      <td>EQU24_RS00005</td>\n",
       "      <td>25.626702</td>\n",
       "      <td>23.323155</td>\n",
       "      <td>32.040358</td>\n",
       "      <td>44.338687</td>\n",
       "      <td>33.434023</td>\n",
       "      <td>34.988452</td>\n",
       "      <td>35.452185</td>\n",
       "      <td>26.849583</td>\n",
       "      <td>38.684021</td>\n",
       "      <td>...</td>\n",
       "      <td>20.462977</td>\n",
       "      <td>dnaA</td>\n",
       "      <td>chromosomal replication initiator protein DnaA</td>\n",
       "      <td>CDS</td>\n",
       "      <td>other</td>\n",
       "      <td>-0.242597</td>\n",
       "      <td>0.032800</td>\n",
       "      <td>0.007199</td>\n",
       "      <td>3.469032</td>\n",
       "      <td>10.165356</td>\n",
       "    </tr>\n",
       "    <tr>\n",
       "      <th>1</th>\n",
       "      <td>EQU24_RS00010</td>\n",
       "      <td>55.711920</td>\n",
       "      <td>18.905775</td>\n",
       "      <td>43.646760</td>\n",
       "      <td>59.619360</td>\n",
       "      <td>43.679839</td>\n",
       "      <td>38.272163</td>\n",
       "      <td>41.782237</td>\n",
       "      <td>45.489035</td>\n",
       "      <td>52.507256</td>\n",
       "      <td>...</td>\n",
       "      <td>20.753038</td>\n",
       "      <td></td>\n",
       "      <td>DNA polymerase III subunit beta</td>\n",
       "      <td>CDS</td>\n",
       "      <td>other</td>\n",
       "      <td>-0.224666</td>\n",
       "      <td>0.028974</td>\n",
       "      <td>0.002134</td>\n",
       "      <td>-3.114132</td>\n",
       "      <td>9.638032</td>\n",
       "    </tr>\n",
       "    <tr>\n",
       "      <th>2</th>\n",
       "      <td>EQU24_RS00015</td>\n",
       "      <td>11.804042</td>\n",
       "      <td>18.443916</td>\n",
       "      <td>21.341623</td>\n",
       "      <td>28.258717</td>\n",
       "      <td>23.162675</td>\n",
       "      <td>15.495930</td>\n",
       "      <td>20.634554</td>\n",
       "      <td>11.962099</td>\n",
       "      <td>33.132559</td>\n",
       "      <td>...</td>\n",
       "      <td>12.244885</td>\n",
       "      <td>recF</td>\n",
       "      <td>DNA replication/repair protein RecF</td>\n",
       "      <td>CDS</td>\n",
       "      <td>other</td>\n",
       "      <td>-0.259354</td>\n",
       "      <td>0.036802</td>\n",
       "      <td>0.009310</td>\n",
       "      <td>11.034661</td>\n",
       "      <td>5.924214</td>\n",
       "    </tr>\n",
       "    <tr>\n",
       "      <th>3</th>\n",
       "      <td>EQU24_RS00020</td>\n",
       "      <td>76.880335</td>\n",
       "      <td>18.257805</td>\n",
       "      <td>62.257687</td>\n",
       "      <td>56.808319</td>\n",
       "      <td>57.287047</td>\n",
       "      <td>54.855025</td>\n",
       "      <td>57.120166</td>\n",
       "      <td>55.846659</td>\n",
       "      <td>77.849631</td>\n",
       "      <td>...</td>\n",
       "      <td>29.602255</td>\n",
       "      <td>gyrB</td>\n",
       "      <td>DNA topoisomerase (ATP-hydrolyzing) subunit B</td>\n",
       "      <td>CDS</td>\n",
       "      <td>other</td>\n",
       "      <td>-0.215584</td>\n",
       "      <td>0.021422</td>\n",
       "      <td>0.007413</td>\n",
       "      <td>-2.505093</td>\n",
       "      <td>7.504429</td>\n",
       "    </tr>\n",
       "    <tr>\n",
       "      <th>4</th>\n",
       "      <td>EQU24_RS00025</td>\n",
       "      <td>43.737438</td>\n",
       "      <td>16.950643</td>\n",
       "      <td>41.674925</td>\n",
       "      <td>49.829406</td>\n",
       "      <td>42.357072</td>\n",
       "      <td>35.396786</td>\n",
       "      <td>34.248335</td>\n",
       "      <td>33.097353</td>\n",
       "      <td>49.837247</td>\n",
       "      <td>...</td>\n",
       "      <td>29.494437</td>\n",
       "      <td></td>\n",
       "      <td>hypothetical protein</td>\n",
       "      <td>CDS</td>\n",
       "      <td>other</td>\n",
       "      <td>-0.236185</td>\n",
       "      <td>0.029925</td>\n",
       "      <td>0.006343</td>\n",
       "      <td>1.054558</td>\n",
       "      <td>8.750976</td>\n",
       "    </tr>\n",
       "  </tbody>\n",
       "</table>\n",
       "<p>5 rows × 29 columns</p>\n",
       "</div>"
      ],
      "text/plain": [
       "       locus_tag  LanzaTech       MeOH  NO3_lowO2_slow_growth       NoCu  \\\n",
       "0  EQU24_RS00005  25.626702  23.323155              32.040358  44.338687   \n",
       "1  EQU24_RS00010  55.711920  18.905775              43.646760  59.619360   \n",
       "2  EQU24_RS00015  11.804042  18.443916              21.341623  28.258717   \n",
       "3  EQU24_RS00020  76.880335  18.257805              62.257687  56.808319   \n",
       "4  EQU24_RS00025  43.737438  16.950643              41.674925  49.829406   \n",
       "\n",
       "   NoLanthanum  WT_control  WithLanthanum     aa3_KO  crotonic_acid  ...  \\\n",
       "0    33.434023   34.988452      35.452185  26.849583      38.684021  ...   \n",
       "1    43.679839   38.272163      41.782237  45.489035      52.507256  ...   \n",
       "2    23.162675   15.495930      20.634554  11.962099      33.132559  ...   \n",
       "3    57.287047   54.855025      57.120166  55.846659      77.849631  ...   \n",
       "4    42.357072   35.396786      34.248335  33.097353      49.837247  ...   \n",
       "\n",
       "     unknown  gene_symbol                                         product  \\\n",
       "0  20.462977         dnaA  chromosomal replication initiator protein DnaA   \n",
       "1  20.753038                              DNA polymerase III subunit beta   \n",
       "2  12.244885         recF             DNA replication/repair protein RecF   \n",
       "3  29.602255         gyrB   DNA topoisomerase (ATP-hydrolyzing) subunit B   \n",
       "4  29.494437                                         hypothetical protein   \n",
       "\n",
       "   type    sys       pc1       pc2       pc3      tsne1      tsne2  \n",
       "0   CDS  other -0.242597  0.032800  0.007199   3.469032  10.165356  \n",
       "1   CDS  other -0.224666  0.028974  0.002134  -3.114132   9.638032  \n",
       "2   CDS  other -0.259354  0.036802  0.009310  11.034661   5.924214  \n",
       "3   CDS  other -0.215584  0.021422  0.007413  -2.505093   7.504429  \n",
       "4   CDS  other -0.236185  0.029925  0.006343   1.054558   8.750976  \n",
       "\n",
       "[5 rows x 29 columns]"
      ]
     },
     "execution_count": 3,
     "metadata": {},
     "output_type": "execute_result"
    }
   ],
   "source": [
    "mdf_piv.head()"
   ]
  },
  {
   "cell_type": "code",
   "execution_count": 4,
   "metadata": {},
   "outputs": [],
   "source": [
    "# establish list of samples and experiment conditions\n",
    "coord_cols = ['pc1','pc2','pc3','tsne1','tsne2']\n",
    "samples = list(dft_piv.drop(coord_cols,axis=1).select_dtypes(include=['float']).columns)\n",
    "exp_conds = list(mdf_piv.drop(coord_cols,axis=1).select_dtypes(include=['float']).columns)\n",
    "exp_subset = ['uMax','lowCH4','NoCu','lowCu','medCu','highCu','NO3_lowO2_slow_growth','highO2_slow_growth','lowO2_fast_growth','MeOH','NoLanthanum','WithLanthanum'] "
   ]
  },
  {
   "cell_type": "code",
   "execution_count": null,
   "metadata": {},
   "outputs": [],
   "source": []
  },
  {
   "cell_type": "markdown",
   "metadata": {},
   "source": [
    "## K-means clustering and viz functions"
   ]
  },
  {
   "cell_type": "code",
   "execution_count": 37,
   "metadata": {},
   "outputs": [],
   "source": [
    "def run_kmeans(df_orig,cols,k=20):\n",
    "    # make of copy of the original df\n",
    "    df = df_orig.copy(deep=True)\n",
    "    \n",
    "    # kmean object\n",
    "    km = KMeans(\n",
    "        n_clusters=k, init='random',\n",
    "        n_init=10, max_iter=300, \n",
    "        tol=1e-04, random_state=0\n",
    "    )\n",
    "\n",
    "    scaler = StandardScaler()\n",
    "    X = scaler.fit_transform(df[cols])\n",
    "\n",
    "    y_km = km.fit_predict(X)\n",
    "    \n",
    "\n",
    "    df['cluster_id'] = y_km\n",
    "    print(df.shape)\n",
    "    \n",
    "    return df,X\n",
    "\n",
    "# count the number of genes per cluster\n",
    "def count_clusters(clust_df):\n",
    "    clusters = defaultdict(list)\n",
    "    for i,row in clust_df.iterrows():\n",
    "        clusters[row['cluster_id']].append(row['locus_tag'])\n",
    "\n",
    "    clust_counts = []\n",
    "    for c in clusters:\n",
    "        clust_counts.append((c,len(clusters[c])))\n",
    "    \n",
    "    return clusters,clust_counts\n",
    "\n",
    "def view_cluster_counts(clust_counts):\n",
    "    clustdf = pd.DataFrame(clust_counts, \n",
    "              columns=[\"cluster\",\"count\"])\n",
    "\n",
    "    sns.barplot(data=clustdf, x='cluster',y='count',palette='hls')\n",
    "    plt.show()\n",
    "#     return alt.Chart(clustdf\n",
    "#              ).mark_bar().encode(\n",
    "#         x='cluster:O',\n",
    "#         y='count:Q'\n",
    "#     )\n",
    "\n",
    "def alt_3pcs_tsne(df,fname):\n",
    "    '''\n",
    "    Given a df with cluster ids and pcs, visualize pcs 1,2,3 with clusters colored\n",
    "    '''\n",
    "    def pc_chart(x,y,pc_title):\n",
    "        sel = alt.selection_multi(fields=['cluster_id'], bind='legend')\n",
    "        chart = alt.Chart(df,\n",
    "                            title=f\"{pc_title} (Genes)\",\n",
    "                            height=300,\n",
    "                            width=300\n",
    "                           ).mark_circle().encode(\n",
    "            x=x,\n",
    "            y=y,\n",
    "            color=alt.Color('cluster_id:N',scale=alt.Scale(scheme='sinebow')),\n",
    "            tooltip=['locus_tag:N', 'type:N','gene_symbol:N', 'product:N','sys:N','cluster_id:N'],\n",
    "            opacity=alt.condition(sel, alt.value(1), alt.value(0.2)),\n",
    "            size=alt.condition(sel, alt.value(200), alt.value(100)),\n",
    "        ).add_selection(\n",
    "            sel,\n",
    "        ).interactive()\n",
    "        \n",
    "        return chart\n",
    "    \n",
    "    chart12 = pc_chart('pc1:Q', 'pc2:Q', 'PCA of PC 1 and 2')\n",
    "    chart23 = pc_chart('pc2:Q', 'pc3:Q', 'PCA of PC 2 and 3')\n",
    "    chart13 = pc_chart('pc1:Q', 'pc3:Q', 'PCA of PC 1 and 3')\n",
    "    chart_tsne = pc_chart('tsne1:Q', 'tsne2:Q', 'TSNE')\n",
    "    \n",
    "#     display(chart12)\n",
    "#     display(chart23)\n",
    "#     display(chart13)\n",
    "#     display(chart_tsne)\n",
    "    chart12.save(f\"altair_out/clustered_{fname}_pc12.html\")\n",
    "    chart23.save(f\"altair_out/clustered_{fname}_pc23.html\")\n",
    "    chart13.save(f\"altair_out/clustered_{fname}_pc13.html\")\n",
    "    chart_tsne.save(f\"altair_out/clustered_{fname}_tsne.html\")\n",
    "    \n",
    "def kmeans_bundle(df,cols,fname):\n",
    "    df_clust, X = run_kmeans(df, cols)\n",
    "    clusters, clust_counts = count_clusters(df_clust)\n",
    "    view_cluster_counts(clust_counts)\n",
    "    alt_3pcs_tsne(df_clust,fname)\n",
    "    \n",
    "    return df_clust, X, clusters, clust_counts\n",
    "    "
   ]
  },
  {
   "cell_type": "markdown",
   "metadata": {},
   "source": [
    "# NOTE: check \"altair_out/\" for altair viz! Or uncomment \"display\" `alt_3pcs_tsne()`"
   ]
  },
  {
   "cell_type": "code",
   "execution_count": 38,
   "metadata": {
    "scrolled": false
   },
   "outputs": [
    {
     "name": "stdout",
     "output_type": "stream",
     "text": [
      "(4213, 109)\n"
     ]
    },
    {
     "data": {
      "image/png": "[encoded data removed]",
      "text/plain": [
       "<Figure size 432x288 with 1 Axes>"
      ]
     },
     "metadata": {
      "needs_background": "light"
     },
     "output_type": "display_data"
    }
   ],
   "source": [
    "dft_piv_clust_df,\\\n",
    "dft_piv_clust_X, \\\n",
    "dft_piv_clusters,\\\n",
    "dft_piv_clust_counts = kmeans_bundle(dft_piv,samples,\"genes_samp\")"
   ]
  },
  {
   "cell_type": "code",
   "execution_count": 39,
   "metadata": {
    "scrolled": false
   },
   "outputs": [
    {
     "name": "stdout",
     "output_type": "stream",
     "text": [
      "(4213, 30)\n"
     ]
    },
    {
     "data": {
      "image/png": "[encoded data removed]",
      "text/plain": [
       "<Figure size 432x288 with 1 Axes>"
      ]
     },
     "metadata": {
      "needs_background": "light"
     },
     "output_type": "display_data"
    }
   ],
   "source": [
    "mdf_piv_clust_df,\\\n",
    "mdf_piv_clust_X, \\\n",
    "mdf_piv_clusters,\\\n",
    "mdf_piv_clust_counts = kmeans_bundle(mdf_piv,exp_conds,\"genes_exp_ave\")\n"
   ]
  },
  {
   "cell_type": "code",
   "execution_count": 40,
   "metadata": {},
   "outputs": [
    {
     "name": "stdout",
     "output_type": "stream",
     "text": [
      "(4213, 30)\n"
     ]
    },
    {
     "data": {
      "image/png": "[encoded data removed]",
      "text/plain": [
       "<Figure size 432x288 with 1 Axes>"
      ]
     },
     "metadata": {
      "needs_background": "light"
     },
     "output_type": "display_data"
    }
   ],
   "source": [
    "mdf_piv_norm_clust_df,\\\n",
    "mdf_piv_norm_clust_X, \\\n",
    "mdf_piv_norm_clusters,\\\n",
    "mdf_piv_norm_clust_counts = kmeans_bundle(mdf_piv_norm, exp_conds,\"genes_exp_ave_norm\")"
   ]
  },
  {
   "cell_type": "code",
   "execution_count": 41,
   "metadata": {
    "scrolled": true
   },
   "outputs": [
    {
     "name": "stdout",
     "output_type": "stream",
     "text": [
      "(4213, 30)\n"
     ]
    },
    {
     "data": {
      "image/png": "[encoded data removed]",
      "text/plain": [
       "<Figure size 432x288 with 1 Axes>"
      ]
     },
     "metadata": {
      "needs_background": "light"
     },
     "output_type": "display_data"
    }
   ],
   "source": [
    "mdf_piv_norm_nocu_clust_df,\\\n",
    "mdf_piv_norm_nocu_clust_X, \\\n",
    "mdf_piv_norm_nocu_clusters,\\\n",
    "mdf_piv_norm_nocu_clust_counts = kmeans_bundle(mdf_piv_norm_nocu, exp_conds,\"genes_exp_ave_norm_nocu\")"
   ]
  },
  {
   "cell_type": "code",
   "execution_count": 42,
   "metadata": {},
   "outputs": [
    {
     "name": "stdout",
     "output_type": "stream",
     "text": [
      "(4213, 23)\n"
     ]
    },
    {
     "data": {
      "image/png": "[encoded data removed]",
      "text/plain": [
       "<Figure size 432x288 with 1 Axes>"
      ]
     },
     "metadata": {
      "needs_background": "light"
     },
     "output_type": "display_data"
    }
   ],
   "source": [
    "mdf_piv_norm_nocu_subset_clust_df,\\\n",
    "mdf_piv_norm_nocu_subset_clust_X, \\\n",
    "mdf_piv_norm_nocu_subset_clusters,\\\n",
    "mdf_piv_norm_nocu_subset_clust_counts = kmeans_bundle(mdf_piv_norm_nocu_subset, exp_subset,\"genes_exp_ave_norm_nocu\")"
   ]
  },
  {
   "cell_type": "markdown",
   "metadata": {},
   "source": [
    "# Cluster expression visualizer!"
   ]
  },
  {
   "cell_type": "code",
   "execution_count": 43,
   "metadata": {},
   "outputs": [],
   "source": [
    "def altair_pcoords(df,title,xorder='exp_condition_order'):\n",
    "    # If more than 30 entries, make 2 columns\n",
    "    col_num = 1 if len(df['locus_tag'].unique()) <=50 else 2\n",
    "    \n",
    "    highlight = alt.selection(type='single', on='mouseover',\n",
    "                              fields=['desc_string'], nearest=True)\n",
    "    \n",
    "    selection = alt.selection_multi(fields=['desc_string'], bind='legend')\n",
    "\n",
    "\n",
    "    base = alt.Chart(df.sort_values(xorder),\n",
    "                     title=title\n",
    "        ).encode(\n",
    "        x=alt.X(f'{xorder}:N',\n",
    "                sort=alt.EncodingSortField(field=f\"{xorder}:N\", op=\"count\")\n",
    "               ),\n",
    "        y='mean:Q',\n",
    "        color=alt.Color('desc_string:N',\n",
    "                        legend=alt.Legend(title='Gene', \n",
    "                                          orient = 'right',\n",
    "                                          labelLimit=0,\n",
    "                                          columns=col_num,\n",
    "                                          symbolLimit=200\n",
    "                                         )),\n",
    "        size=alt.value(100)        \n",
    "    )\n",
    "    \n",
    "\n",
    "    lines = base.mark_line().encode(\n",
    "        size=alt.condition((selection|highlight), alt.value(3), alt.value(1)),\n",
    "        opacity=alt.condition((selection|highlight), alt.value(1), alt.value(0.5))\n",
    "    ).add_selection(\n",
    "        selection,\n",
    "    ).properties(\n",
    "         width=600,\n",
    "         height=400\n",
    "    ).interactive()\n",
    "    \n",
    "    \n",
    "    points = base.mark_circle().encode(\n",
    "        tooltip=['locus_tag','product','type','gene_symbol'],\n",
    "        opacity=alt.condition((selection|highlight), alt.value(1), alt.value(0.2)),\n",
    "        size=alt.condition((selection|highlight), alt.value(100), alt.value(3))\n",
    "    ).add_selection(highlight)\n",
    "\n",
    "    #return points + lines\n",
    "    return lines + points\n",
    "\n",
    "def check_cluster_expression(df, cols,cluster_id,title):\n",
    "    df['desc_string'] = df.apply(lambda row: f\"{row['locus_tag']}|{row['gene_symbol']}|{row['product']}\",axis=1)\n",
    "    id_vars = ['locus_tag','gene_symbol','product','type','sys','pc1','pc2','pc3','tsne1','tsne2','cluster_id','desc_string']\n",
    "    dfm = df.melt(id_vars=id_vars, value_vars=cols,var_name='exp_condition',value_name=\"mean\")\n",
    "    # altair sort helper\n",
    "    list_ordering = ['uMax','lowCH4','NoCu','lowCu','medCu','highCu','NO3_lowO2_slow_growth','highO2_slow_growth','lowO2_fast_growth','MeOH','NoLanthanum','WithLanthanum'] \n",
    "    dfm[\"exp_condition_order\"] = pd.Categorical(dfm[\"exp_condition\"], categories=list_ordering)\n",
    "    #return dfm\n",
    "    return altair_pcoords(dfm[dfm['cluster_id']==cluster_id],title)"
   ]
  },
  {
   "cell_type": "code",
   "execution_count": 44,
   "metadata": {},
   "outputs": [
    {
     "data": {
      "text/html": [
       "\n",
       "<div id=\"altair-viz-37cab54810984f7d9447369bf14ed009\"></div>\n",
       "<script type=\"text/javascript\">\n",
       "  (function(spec, embedOpt){\n",
       "    let outputDiv = document.currentScript.previousElementSibling;\n",
       "    if (outputDiv.id !== \"altair-viz-37cab54810984f7d9447369bf14ed009\") {\n",
       "      outputDiv = document.getElementById(\"altair-viz-37cab54810984f7d9447369bf14ed009\");\n",
       "    }\n",
       "    const paths = {\n",
       "      \"vega\": \"https://cdn.jsdelivr.net/npm//vega@5?noext\",\n",
       "      \"vega-lib\": \"https://cdn.jsdelivr.net/npm//vega-lib?noext\",\n",
       "      \"vega-lite\": \"https://cdn.jsdelivr.net/npm//vega-lite@4.8.1?noext\",\n",
       "      \"vega-embed\": \"https://cdn.jsdelivr.net/npm//vega-embed@6?noext\",\n",
       "    };\n",
       "\n",
       "    function loadScript(lib) {\n",
       "      return new Promise(function(resolve, reject) {\n",
       "        var s = document.createElement('script');\n",
       "        s.src = paths[lib];\n",
       "        s.async = true;\n",
       "        s.onload = () => resolve(paths[lib]);\n",
       "        s.onerror = () => reject(`Error loading script: ${paths[lib]}`);\n",
       "        document.getElementsByTagName(\"head\")[0].appendChild(s);\n",
       "      });\n",
       "    }\n",
       "\n",
       "    function showError(err) {\n",
       "      outputDiv.innerHTML = `<div class=\"error\" style=\"color:red;\">${err}</div>`;\n",
       "      throw err;\n",
       "    }\n",
       "\n",
       "    function displayChart(vegaEmbed) {\n",
       "      vegaEmbed(outputDiv, spec, embedOpt)\n",
       "        .catch(err => showError(`Javascript Error: ${err.message}<br>This usually means there's a typo in your chart specification. See the javascript console for the full traceback.`));\n",
       "    }\n",
       "\n",
       "    if(typeof define === \"function\" && define.amd) {\n",
       "      requirejs.config({paths});\n",
       "      require([\"vega-embed\"], displayChart, err => showError(`Error loading script: ${err.message}`));\n",
       "    } else if (typeof vegaEmbed === \"function\") {\n",
       "      displayChart(vegaEmbed);\n",
       "    } else {\n",
       "      loadScript(\"vega\")\n",
       "        .then(() => loadScript(\"vega-lite\"))\n",
       "        .then(() => loadScript(\"vega-embed\"))\n",
       "        .catch(showError)\n",
       "        .then(() => displayChart(vegaEmbed));\n",
       "    }\n",
       "  })({\"config\": {\"view\": {\"continuousWidth\": 400, \"continuousHeight\": 300}}, \"layer\": [{\"mark\": \"line\", \"encoding\": {\"color\": {\"type\": \"nominal\", \"field\": \"desc_string\", \"legend\": {\"columns\": 1, \"labelLimit\": 0, \"orient\": \"right\", \"symbolLimit\": 200, \"title\": \"Gene\"}}, \"opacity\": {\"condition\": {\"value\": 1, \"selection\": {\"or\": [\"selector094\", \"selector093\"]}}, \"value\": 0.5}, \"size\": {\"condition\": {\"value\": 3, \"selection\": {\"or\": [\"selector094\", \"selector093\"]}}, \"value\": 1}, \"x\": {\"type\": \"nominal\", \"field\": \"exp_condition_order\", \"sort\": {\"field\": \"exp_condition_order:N\", \"op\": \"count\"}}, \"y\": {\"type\": \"quantitative\", \"field\": \"mean\"}}, \"height\": 400, \"selection\": {\"selector094\": {\"type\": \"multi\", \"fields\": [\"desc_string\"], \"bind\": \"legend\"}, \"selector095\": {\"type\": \"interval\", \"bind\": \"scales\", \"encodings\": [\"x\", \"y\"]}}, \"title\": \"norm nocu subset, cluster 13\", \"width\": 600}, {\"mark\": \"circle\", \"encoding\": {\"color\": {\"type\": \"nominal\", \"field\": \"desc_string\", \"legend\": {\"columns\": 1, \"labelLimit\": 0, \"orient\": \"right\", \"symbolLimit\": 200, \"title\": \"Gene\"}}, \"opacity\": {\"condition\": {\"value\": 1, \"selection\": {\"or\": [\"selector094\", \"selector093\"]}}, \"value\": 0.2}, \"size\": {\"condition\": {\"value\": 100, \"selection\": {\"or\": [\"selector094\", \"selector093\"]}}, \"value\": 3}, \"tooltip\": [{\"type\": \"nominal\", \"field\": \"locus_tag\"}, {\"type\": \"nominal\", \"field\": \"product\"}, {\"type\": \"nominal\", \"field\": \"type\"}, {\"type\": \"nominal\", \"field\": \"gene_symbol\"}], \"x\": {\"type\": \"nominal\", \"field\": \"exp_condition_order\", \"sort\": {\"field\": \"exp_condition_order:N\", \"op\": \"count\"}}, \"y\": {\"type\": \"quantitative\", \"field\": \"mean\"}}, \"selection\": {\"selector093\": {\"type\": \"single\", \"on\": \"mouseover\", \"fields\": [\"desc_string\"], \"nearest\": true}}, \"title\": \"norm nocu subset, cluster 13\"}], \"data\": {\"name\": \"data-36f81b08204ca302c7c0059be19a24a8\"}, \"$schema\": \"https://vega.github.io/schema/vega-lite/v4.8.1.json\", \"datasets\": {\"data-36f81b08204ca302c7c0059be19a24a8\": [{\"locus_tag\": \"EQU24_RS05885\", \"gene_symbol\": \"mmoX\", \"product\": \"methane monooxygenase\", \"type\": \"CDS\", \"sys\": \"RepCurCu-no5152\", \"pc1\": -30.985025587579674, \"pc2\": -2.348821800731696, \"pc3\": 6.106946547769476, \"tsne1\": -12.442651, \"tsne2\": 10.276721, \"cluster_id\": 13, \"desc_string\": \"EQU24_RS05885|mmoX|methane monooxygenase\", \"exp_condition\": \"uMax\", \"mean\": -10.080778480871588, \"exp_condition_order\": \"uMax\"}, {\"locus_tag\": \"EQU24_RS05890\", \"gene_symbol\": \"mmoY\", \"product\": \"methane monooxygenase\", \"type\": \"CDS\", \"sys\": \"smo\", \"pc1\": -28.57644507885481, \"pc2\": -2.395856685045718, \"pc3\": 5.760533059710362, \"tsne1\": -12.436286, \"tsne2\": 10.272724, \"cluster_id\": 13, \"desc_string\": \"EQU24_RS05890|mmoY|methane monooxygenase\", \"exp_condition\": \"uMax\", \"mean\": -9.423783167704512, \"exp_condition_order\": \"uMax\"}, {\"locus_tag\": \"EQU24_RS05895\", \"gene_symbol\": \"mmoB\", \"product\": \"methane monooxygenase\", \"type\": \"CDS\", \"sys\": \"smo\", \"pc1\": -29.619136357872186, \"pc2\": -2.4237495260879065, \"pc3\": 5.885855991297372, \"tsne1\": -12.440297, \"tsne2\": 10.274245, \"cluster_id\": 13, \"desc_string\": \"EQU24_RS05895|mmoB|methane monooxygenase\", \"exp_condition\": \"uMax\", \"mean\": -9.643463918155105, \"exp_condition_order\": \"uMax\"}, {\"locus_tag\": \"EQU24_RS05900\", \"gene_symbol\": \"mmoZ\", \"product\": \"hypothetical protein\", \"type\": \"CDS\", \"sys\": \"smo\", \"pc1\": -27.984700359900433, \"pc2\": -2.8623675257166825, \"pc3\": 5.3440022063149035, \"tsne1\": -12.437682, \"tsne2\": 10.270214, \"cluster_id\": 13, \"desc_string\": \"EQU24_RS05900|mmoZ|hypothetical protein\", \"exp_condition\": \"uMax\", \"mean\": -9.183691012978757, \"exp_condition_order\": \"uMax\"}, {\"locus_tag\": \"EQU24_RS05905\", \"gene_symbol\": \"mmoD\", \"product\": \"soluble methane monooxygenase-binding protein MmoD\", \"type\": \"CDS\", \"sys\": \"RepCurCu-no5152\", \"pc1\": -25.48562897417195, \"pc2\": -2.892610146213902, \"pc3\": 4.675498422257813, \"tsne1\": -12.430639, \"tsne2\": 10.260817999999999, \"cluster_id\": 13, \"desc_string\": \"EQU24_RS05905|mmoD|soluble methane monooxygenase-binding protein MmoD\", \"exp_condition\": \"uMax\", \"mean\": -8.292086896284383, \"exp_condition_order\": \"uMax\"}, {\"locus_tag\": \"EQU24_RS05910\", \"gene_symbol\": \"mmoC\", \"product\": \"2Fe-2S iron-sulfur cluster binding domain-containing protein\", \"type\": \"CDS\", \"sys\": \"smo\", \"pc1\": -24.550443283158067, \"pc2\": -2.382542277758326, \"pc3\": 4.2189652565150935, \"tsne1\": -12.419435, \"tsne2\": 10.255878, \"cluster_id\": 13, \"desc_string\": \"EQU24_RS05910|mmoC|2Fe-2S iron-sulfur cluster binding domain-containing protein\", \"exp_condition\": \"uMax\", \"mean\": -7.871970106649193, \"exp_condition_order\": \"uMax\"}, {\"locus_tag\": \"EQU24_RS05915\", \"gene_symbol\": \"\", \"product\": \"BLUF domain-containing protein\", \"type\": \"CDS\", \"sys\": \"RepCurCu-no5152\", \"pc1\": -23.423494630042537, \"pc2\": -4.083673474899962, \"pc3\": 3.010572289416393, \"tsne1\": -12.427594000000001, \"tsne2\": 10.231284, \"cluster_id\": 13, \"desc_string\": \"EQU24_RS05915||BLUF domain-containing protein\", \"exp_condition\": \"uMax\", \"mean\": -7.618071639322313, \"exp_condition_order\": \"uMax\"}, {\"locus_tag\": \"EQU24_RS05920\", \"gene_symbol\": \"\", \"product\": \"hypothetical protein\", \"type\": \"CDS\", \"sys\": \"RepCurCu-no5152\", \"pc1\": -23.54041795727712, \"pc2\": -3.5460849899231888, \"pc3\": 2.6905664971171364, \"tsne1\": -12.423753999999999, \"tsne2\": 10.233883, \"cluster_id\": 13, \"desc_string\": \"EQU24_RS05920||hypothetical protein\", \"exp_condition\": \"uMax\", \"mean\": -7.351955193863167, \"exp_condition_order\": \"uMax\"}, {\"locus_tag\": \"EQU24_RS05925\", \"gene_symbol\": \"mmoG\", \"product\": \"likely chaperone for smmo\", \"type\": \"CDS\", \"sys\": \"RepCurCu-no5152\", \"pc1\": -23.13844565888359, \"pc2\": -3.2968282140946, \"pc3\": 2.3346374208758487, \"tsne1\": -12.416947, \"tsne2\": 10.225968, \"cluster_id\": 13, \"desc_string\": \"EQU24_RS05925|mmoG|likely chaperone for smmo\", \"exp_condition\": \"uMax\", \"mean\": -7.297988240452766, \"exp_condition_order\": \"uMax\"}, {\"locus_tag\": \"EQU24_RS19520\", \"gene_symbol\": \"\", \"product\": \"type II secretion system protein\", \"type\": \"CDS\", \"sys\": \"secretion\", \"pc1\": -22.355857995409846, \"pc2\": 2.7714456430835814, \"pc3\": 4.610333961857753, \"tsne1\": -12.032574, \"tsne2\": 10.258863999999999, \"cluster_id\": 13, \"desc_string\": \"EQU24_RS19520||type II secretion system protein\", \"exp_condition\": \"uMax\", \"mean\": -8.804189381150561, \"exp_condition_order\": \"uMax\"}, {\"locus_tag\": \"EQU24_RS19520\", \"gene_symbol\": \"\", \"product\": \"type II secretion system protein\", \"type\": \"CDS\", \"sys\": \"secretion\", \"pc1\": -22.355857995409846, \"pc2\": 2.7714456430835814, \"pc3\": 4.610333961857753, \"tsne1\": -12.032574, \"tsne2\": 10.258863999999999, \"cluster_id\": 13, \"desc_string\": \"EQU24_RS19520||type II secretion system protein\", \"exp_condition\": \"lowCH4\", \"mean\": -10.71874252828717, \"exp_condition_order\": \"lowCH4\"}, {\"locus_tag\": \"EQU24_RS05925\", \"gene_symbol\": \"mmoG\", \"product\": \"likely chaperone for smmo\", \"type\": \"CDS\", \"sys\": \"RepCurCu-no5152\", \"pc1\": -23.13844565888359, \"pc2\": -3.2968282140946, \"pc3\": 2.3346374208758487, \"tsne1\": -12.416947, \"tsne2\": 10.225968, \"cluster_id\": 13, \"desc_string\": \"EQU24_RS05925|mmoG|likely chaperone for smmo\", \"exp_condition\": \"lowCH4\", \"mean\": -7.879597901578123, \"exp_condition_order\": \"lowCH4\"}, {\"locus_tag\": \"EQU24_RS05920\", \"gene_symbol\": \"\", \"product\": \"hypothetical protein\", \"type\": \"CDS\", \"sys\": \"RepCurCu-no5152\", \"pc1\": -23.54041795727712, \"pc2\": -3.5460849899231888, \"pc3\": 2.6905664971171364, \"tsne1\": -12.423753999999999, \"tsne2\": 10.233883, \"cluster_id\": 13, \"desc_string\": \"EQU24_RS05920||hypothetical protein\", \"exp_condition\": \"lowCH4\", \"mean\": -7.987742533633733, \"exp_condition_order\": \"lowCH4\"}, {\"locus_tag\": \"EQU24_RS05915\", \"gene_symbol\": \"\", \"product\": \"BLUF domain-containing protein\", \"type\": \"CDS\", \"sys\": \"RepCurCu-no5152\", \"pc1\": -23.423494630042537, \"pc2\": -4.083673474899962, \"pc3\": 3.010572289416393, \"tsne1\": -12.427594000000001, \"tsne2\": 10.231284, \"cluster_id\": 13, \"desc_string\": \"EQU24_RS05915||BLUF domain-containing protein\", \"exp_condition\": \"lowCH4\", \"mean\": -8.096490012860542, \"exp_condition_order\": \"lowCH4\"}, {\"locus_tag\": \"EQU24_RS05910\", \"gene_symbol\": \"mmoC\", \"product\": \"2Fe-2S iron-sulfur cluster binding domain-containing protein\", \"type\": \"CDS\", \"sys\": \"smo\", \"pc1\": -24.550443283158067, \"pc2\": -2.382542277758326, \"pc3\": 4.2189652565150935, \"tsne1\": -12.419435, \"tsne2\": 10.255878, \"cluster_id\": 13, \"desc_string\": \"EQU24_RS05910|mmoC|2Fe-2S iron-sulfur cluster binding domain-containing protein\", \"exp_condition\": \"lowCH4\", \"mean\": -8.428703006690021, \"exp_condition_order\": \"lowCH4\"}, {\"locus_tag\": \"EQU24_RS05890\", \"gene_symbol\": \"mmoY\", \"product\": \"methane monooxygenase\", \"type\": \"CDS\", \"sys\": \"smo\", \"pc1\": -28.57644507885481, \"pc2\": -2.395856685045718, \"pc3\": 5.760533059710362, \"tsne1\": -12.436286, \"tsne2\": 10.272724, \"cluster_id\": 13, \"desc_string\": \"EQU24_RS05890|mmoY|methane monooxygenase\", \"exp_condition\": \"lowCH4\", \"mean\": -10.070408789444645, \"exp_condition_order\": \"lowCH4\"}, {\"locus_tag\": \"EQU24_RS05900\", \"gene_symbol\": \"mmoZ\", \"product\": \"hypothetical protein\", \"type\": \"CDS\", \"sys\": \"smo\", \"pc1\": -27.984700359900433, \"pc2\": -2.8623675257166825, \"pc3\": 5.3440022063149035, \"tsne1\": -12.437682, \"tsne2\": 10.270214, \"cluster_id\": 13, \"desc_string\": \"EQU24_RS05900|mmoZ|hypothetical protein\", \"exp_condition\": \"lowCH4\", \"mean\": -9.7795388272469, \"exp_condition_order\": \"lowCH4\"}, {\"locus_tag\": \"EQU24_RS05895\", \"gene_symbol\": \"mmoB\", \"product\": \"methane monooxygenase\", \"type\": \"CDS\", \"sys\": \"smo\", \"pc1\": -29.619136357872186, \"pc2\": -2.4237495260879065, \"pc3\": 5.885855991297372, \"tsne1\": -12.440297, \"tsne2\": 10.274245, \"cluster_id\": 13, \"desc_string\": \"EQU24_RS05895|mmoB|methane monooxygenase\", \"exp_condition\": \"lowCH4\", \"mean\": -10.4781374966745, \"exp_condition_order\": \"lowCH4\"}, {\"locus_tag\": \"EQU24_RS05885\", \"gene_symbol\": \"mmoX\", \"product\": \"methane monooxygenase\", \"type\": \"CDS\", \"sys\": \"RepCurCu-no5152\", \"pc1\": -30.985025587579674, \"pc2\": -2.348821800731696, \"pc3\": 6.106946547769476, \"tsne1\": -12.442651, \"tsne2\": 10.276721, \"cluster_id\": 13, \"desc_string\": \"EQU24_RS05885|mmoX|methane monooxygenase\", \"exp_condition\": \"lowCH4\", \"mean\": -10.954785274726133, \"exp_condition_order\": \"lowCH4\"}, {\"locus_tag\": \"EQU24_RS05905\", \"gene_symbol\": \"mmoD\", \"product\": \"soluble methane monooxygenase-binding protein MmoD\", \"type\": \"CDS\", \"sys\": \"RepCurCu-no5152\", \"pc1\": -25.48562897417195, \"pc2\": -2.892610146213902, \"pc3\": 4.675498422257813, \"tsne1\": -12.430639, \"tsne2\": 10.260817999999999, \"cluster_id\": 13, \"desc_string\": \"EQU24_RS05905|mmoD|soluble methane monooxygenase-binding protein MmoD\", \"exp_condition\": \"lowCH4\", \"mean\": -8.89997197069798, \"exp_condition_order\": \"lowCH4\"}, {\"locus_tag\": \"EQU24_RS05920\", \"gene_symbol\": \"\", \"product\": \"hypothetical protein\", \"type\": \"CDS\", \"sys\": \"RepCurCu-no5152\", \"pc1\": -23.54041795727712, \"pc2\": -3.5460849899231888, \"pc3\": 2.6905664971171364, \"tsne1\": -12.423753999999999, \"tsne2\": 10.233883, \"cluster_id\": 13, \"desc_string\": \"EQU24_RS05920||hypothetical protein\", \"exp_condition\": \"NoCu\", \"mean\": 0.0, \"exp_condition_order\": \"NoCu\"}, {\"locus_tag\": \"EQU24_RS19520\", \"gene_symbol\": \"\", \"product\": \"type II secretion system protein\", \"type\": \"CDS\", \"sys\": \"secretion\", \"pc1\": -22.355857995409846, \"pc2\": 2.7714456430835814, \"pc3\": 4.610333961857753, \"tsne1\": -12.032574, \"tsne2\": 10.258863999999999, \"cluster_id\": 13, \"desc_string\": \"EQU24_RS19520||type II secretion system protein\", \"exp_condition\": \"NoCu\", \"mean\": 0.0, \"exp_condition_order\": \"NoCu\"}, {\"locus_tag\": \"EQU24_RS05925\", \"gene_symbol\": \"mmoG\", \"product\": \"likely chaperone for smmo\", \"type\": \"CDS\", \"sys\": \"RepCurCu-no5152\", \"pc1\": -23.13844565888359, \"pc2\": -3.2968282140946, \"pc3\": 2.3346374208758487, \"tsne1\": -12.416947, \"tsne2\": 10.225968, \"cluster_id\": 13, \"desc_string\": \"EQU24_RS05925|mmoG|likely chaperone for smmo\", \"exp_condition\": \"NoCu\", \"mean\": 0.0, \"exp_condition_order\": \"NoCu\"}, {\"locus_tag\": \"EQU24_RS05910\", \"gene_symbol\": \"mmoC\", \"product\": \"2Fe-2S iron-sulfur cluster binding domain-containing protein\", \"type\": \"CDS\", \"sys\": \"smo\", \"pc1\": -24.550443283158067, \"pc2\": -2.382542277758326, \"pc3\": 4.2189652565150935, \"tsne1\": -12.419435, \"tsne2\": 10.255878, \"cluster_id\": 13, \"desc_string\": \"EQU24_RS05910|mmoC|2Fe-2S iron-sulfur cluster binding domain-containing protein\", \"exp_condition\": \"NoCu\", \"mean\": 0.0, \"exp_condition_order\": \"NoCu\"}, {\"locus_tag\": \"EQU24_RS05915\", \"gene_symbol\": \"\", \"product\": \"BLUF domain-containing protein\", \"type\": \"CDS\", \"sys\": \"RepCurCu-no5152\", \"pc1\": -23.423494630042537, \"pc2\": -4.083673474899962, \"pc3\": 3.010572289416393, \"tsne1\": -12.427594000000001, \"tsne2\": 10.231284, \"cluster_id\": 13, \"desc_string\": \"EQU24_RS05915||BLUF domain-containing protein\", \"exp_condition\": \"NoCu\", \"mean\": 0.0, \"exp_condition_order\": \"NoCu\"}, {\"locus_tag\": \"EQU24_RS05900\", \"gene_symbol\": \"mmoZ\", \"product\": \"hypothetical protein\", \"type\": \"CDS\", \"sys\": \"smo\", \"pc1\": -27.984700359900433, \"pc2\": -2.8623675257166825, \"pc3\": 5.3440022063149035, \"tsne1\": -12.437682, \"tsne2\": 10.270214, \"cluster_id\": 13, \"desc_string\": \"EQU24_RS05900|mmoZ|hypothetical protein\", \"exp_condition\": \"NoCu\", \"mean\": 0.0, \"exp_condition_order\": \"NoCu\"}, {\"locus_tag\": \"EQU24_RS05905\", \"gene_symbol\": \"mmoD\", \"product\": \"soluble methane monooxygenase-binding protein MmoD\", \"type\": \"CDS\", \"sys\": \"RepCurCu-no5152\", \"pc1\": -25.48562897417195, \"pc2\": -2.892610146213902, \"pc3\": 4.675498422257813, \"tsne1\": -12.430639, \"tsne2\": 10.260817999999999, \"cluster_id\": 13, \"desc_string\": \"EQU24_RS05905|mmoD|soluble methane monooxygenase-binding protein MmoD\", \"exp_condition\": \"NoCu\", \"mean\": 0.0, \"exp_condition_order\": \"NoCu\"}, {\"locus_tag\": \"EQU24_RS05895\", \"gene_symbol\": \"mmoB\", \"product\": \"methane monooxygenase\", \"type\": \"CDS\", \"sys\": \"smo\", \"pc1\": -29.619136357872186, \"pc2\": -2.4237495260879065, \"pc3\": 5.885855991297372, \"tsne1\": -12.440297, \"tsne2\": 10.274245, \"cluster_id\": 13, \"desc_string\": \"EQU24_RS05895|mmoB|methane monooxygenase\", \"exp_condition\": \"NoCu\", \"mean\": 0.0, \"exp_condition_order\": \"NoCu\"}, {\"locus_tag\": \"EQU24_RS05890\", \"gene_symbol\": \"mmoY\", \"product\": \"methane monooxygenase\", \"type\": \"CDS\", \"sys\": \"smo\", \"pc1\": -28.57644507885481, \"pc2\": -2.395856685045718, \"pc3\": 5.760533059710362, \"tsne1\": -12.436286, \"tsne2\": 10.272724, \"cluster_id\": 13, \"desc_string\": \"EQU24_RS05890|mmoY|methane monooxygenase\", \"exp_condition\": \"NoCu\", \"mean\": 0.0, \"exp_condition_order\": \"NoCu\"}, {\"locus_tag\": \"EQU24_RS05885\", \"gene_symbol\": \"mmoX\", \"product\": \"methane monooxygenase\", \"type\": \"CDS\", \"sys\": \"RepCurCu-no5152\", \"pc1\": -30.985025587579674, \"pc2\": -2.348821800731696, \"pc3\": 6.106946547769476, \"tsne1\": -12.442651, \"tsne2\": 10.276721, \"cluster_id\": 13, \"desc_string\": \"EQU24_RS05885|mmoX|methane monooxygenase\", \"exp_condition\": \"NoCu\", \"mean\": 0.0, \"exp_condition_order\": \"NoCu\"}, {\"locus_tag\": \"EQU24_RS05925\", \"gene_symbol\": \"mmoG\", \"product\": \"likely chaperone for smmo\", \"type\": \"CDS\", \"sys\": \"RepCurCu-no5152\", \"pc1\": -23.13844565888359, \"pc2\": -3.2968282140946, \"pc3\": 2.3346374208758487, \"tsne1\": -12.416947, \"tsne2\": 10.225968, \"cluster_id\": 13, \"desc_string\": \"EQU24_RS05925|mmoG|likely chaperone for smmo\", \"exp_condition\": \"lowCu\", \"mean\": -0.710762654802672, \"exp_condition_order\": \"lowCu\"}, {\"locus_tag\": \"EQU24_RS05920\", \"gene_symbol\": \"\", \"product\": \"hypothetical protein\", \"type\": \"CDS\", \"sys\": \"RepCurCu-no5152\", \"pc1\": -23.54041795727712, \"pc2\": -3.5460849899231888, \"pc3\": 2.6905664971171364, \"tsne1\": -12.423753999999999, \"tsne2\": 10.233883, \"cluster_id\": 13, \"desc_string\": \"EQU24_RS05920||hypothetical protein\", \"exp_condition\": \"lowCu\", \"mean\": -0.6634283170906656, \"exp_condition_order\": \"lowCu\"}, {\"locus_tag\": \"EQU24_RS05915\", \"gene_symbol\": \"\", \"product\": \"BLUF domain-containing protein\", \"type\": \"CDS\", \"sys\": \"RepCurCu-no5152\", \"pc1\": -23.423494630042537, \"pc2\": -4.083673474899962, \"pc3\": 3.010572289416393, \"tsne1\": -12.427594000000001, \"tsne2\": 10.231284, \"cluster_id\": 13, \"desc_string\": \"EQU24_RS05915||BLUF domain-containing protein\", \"exp_condition\": \"lowCu\", \"mean\": -0.7662055239258898, \"exp_condition_order\": \"lowCu\"}, {\"locus_tag\": \"EQU24_RS05910\", \"gene_symbol\": \"mmoC\", \"product\": \"2Fe-2S iron-sulfur cluster binding domain-containing protein\", \"type\": \"CDS\", \"sys\": \"smo\", \"pc1\": -24.550443283158067, \"pc2\": -2.382542277758326, \"pc3\": 4.2189652565150935, \"tsne1\": -12.419435, \"tsne2\": 10.255878, \"cluster_id\": 13, \"desc_string\": \"EQU24_RS05910|mmoC|2Fe-2S iron-sulfur cluster binding domain-containing protein\", \"exp_condition\": \"lowCu\", \"mean\": -0.4307597107558084, \"exp_condition_order\": \"lowCu\"}, {\"locus_tag\": \"EQU24_RS19520\", \"gene_symbol\": \"\", \"product\": \"type II secretion system protein\", \"type\": \"CDS\", \"sys\": \"secretion\", \"pc1\": -22.355857995409846, \"pc2\": 2.7714456430835814, \"pc3\": 4.610333961857753, \"tsne1\": -12.032574, \"tsne2\": 10.258863999999999, \"cluster_id\": 13, \"desc_string\": \"EQU24_RS19520||type II secretion system protein\", \"exp_condition\": \"lowCu\", \"mean\": -0.16775967043016204, \"exp_condition_order\": \"lowCu\"}, {\"locus_tag\": \"EQU24_RS05900\", \"gene_symbol\": \"mmoZ\", \"product\": \"hypothetical protein\", \"type\": \"CDS\", \"sys\": \"smo\", \"pc1\": -27.984700359900433, \"pc2\": -2.8623675257166825, \"pc3\": 5.3440022063149035, \"tsne1\": -12.437682, \"tsne2\": 10.270214, \"cluster_id\": 13, \"desc_string\": \"EQU24_RS05900|mmoZ|hypothetical protein\", \"exp_condition\": \"lowCu\", \"mean\": -0.4939962324164131, \"exp_condition_order\": \"lowCu\"}, {\"locus_tag\": \"EQU24_RS05895\", \"gene_symbol\": \"mmoB\", \"product\": \"methane monooxygenase\", \"type\": \"CDS\", \"sys\": \"smo\", \"pc1\": -29.619136357872186, \"pc2\": -2.4237495260879065, \"pc3\": 5.885855991297372, \"tsne1\": -12.440297, \"tsne2\": 10.274245, \"cluster_id\": 13, \"desc_string\": \"EQU24_RS05895|mmoB|methane monooxygenase\", \"exp_condition\": \"lowCu\", \"mean\": -0.4758689204837882, \"exp_condition_order\": \"lowCu\"}, {\"locus_tag\": \"EQU24_RS05890\", \"gene_symbol\": \"mmoY\", \"product\": \"methane monooxygenase\", \"type\": \"CDS\", \"sys\": \"smo\", \"pc1\": -28.57644507885481, \"pc2\": -2.395856685045718, \"pc3\": 5.760533059710362, \"tsne1\": -12.436286, \"tsne2\": 10.272724, \"cluster_id\": 13, \"desc_string\": \"EQU24_RS05890|mmoY|methane monooxygenase\", \"exp_condition\": \"lowCu\", \"mean\": -0.4837917984526445, \"exp_condition_order\": \"lowCu\"}, {\"locus_tag\": \"EQU24_RS05885\", \"gene_symbol\": \"mmoX\", \"product\": \"methane monooxygenase\", \"type\": \"CDS\", \"sys\": \"RepCurCu-no5152\", \"pc1\": -30.985025587579674, \"pc2\": -2.348821800731696, \"pc3\": 6.106946547769476, \"tsne1\": -12.442651, \"tsne2\": 10.276721, \"cluster_id\": 13, \"desc_string\": \"EQU24_RS05885|mmoX|methane monooxygenase\", \"exp_condition\": \"lowCu\", \"mean\": -0.5769104629653801, \"exp_condition_order\": \"lowCu\"}, {\"locus_tag\": \"EQU24_RS05905\", \"gene_symbol\": \"mmoD\", \"product\": \"soluble methane monooxygenase-binding protein MmoD\", \"type\": \"CDS\", \"sys\": \"RepCurCu-no5152\", \"pc1\": -25.48562897417195, \"pc2\": -2.892610146213902, \"pc3\": 4.675498422257813, \"tsne1\": -12.430639, \"tsne2\": 10.260817999999999, \"cluster_id\": 13, \"desc_string\": \"EQU24_RS05905|mmoD|soluble methane monooxygenase-binding protein MmoD\", \"exp_condition\": \"lowCu\", \"mean\": -0.5145670232752897, \"exp_condition_order\": \"lowCu\"}, {\"locus_tag\": \"EQU24_RS19520\", \"gene_symbol\": \"\", \"product\": \"type II secretion system protein\", \"type\": \"CDS\", \"sys\": \"secretion\", \"pc1\": -22.355857995409846, \"pc2\": 2.7714456430835814, \"pc3\": 4.610333961857753, \"tsne1\": -12.032574, \"tsne2\": 10.258863999999999, \"cluster_id\": 13, \"desc_string\": \"EQU24_RS19520||type II secretion system protein\", \"exp_condition\": \"medCu\", \"mean\": -0.7953536937598544, \"exp_condition_order\": \"medCu\"}, {\"locus_tag\": \"EQU24_RS05925\", \"gene_symbol\": \"mmoG\", \"product\": \"likely chaperone for smmo\", \"type\": \"CDS\", \"sys\": \"RepCurCu-no5152\", \"pc1\": -23.13844565888359, \"pc2\": -3.2968282140946, \"pc3\": 2.3346374208758487, \"tsne1\": -12.416947, \"tsne2\": 10.225968, \"cluster_id\": 13, \"desc_string\": \"EQU24_RS05925|mmoG|likely chaperone for smmo\", \"exp_condition\": \"medCu\", \"mean\": -3.3378385547132434, \"exp_condition_order\": \"medCu\"}, {\"locus_tag\": \"EQU24_RS05920\", \"gene_symbol\": \"\", \"product\": \"hypothetical protein\", \"type\": \"CDS\", \"sys\": \"RepCurCu-no5152\", \"pc1\": -23.54041795727712, \"pc2\": -3.5460849899231888, \"pc3\": 2.6905664971171364, \"tsne1\": -12.423753999999999, \"tsne2\": 10.233883, \"cluster_id\": 13, \"desc_string\": \"EQU24_RS05920||hypothetical protein\", \"exp_condition\": \"medCu\", \"mean\": -3.413179489195187, \"exp_condition_order\": \"medCu\"}, {\"locus_tag\": \"EQU24_RS05915\", \"gene_symbol\": \"\", \"product\": \"BLUF domain-containing protein\", \"type\": \"CDS\", \"sys\": \"RepCurCu-no5152\", \"pc1\": -23.423494630042537, \"pc2\": -4.083673474899962, \"pc3\": 3.010572289416393, \"tsne1\": -12.427594000000001, \"tsne2\": 10.231284, \"cluster_id\": 13, \"desc_string\": \"EQU24_RS05915||BLUF domain-containing protein\", \"exp_condition\": \"medCu\", \"mean\": -3.248462965305326, \"exp_condition_order\": \"medCu\"}, {\"locus_tag\": \"EQU24_RS05910\", \"gene_symbol\": \"mmoC\", \"product\": \"2Fe-2S iron-sulfur cluster binding domain-containing protein\", \"type\": \"CDS\", \"sys\": \"smo\", \"pc1\": -24.550443283158067, \"pc2\": -2.382542277758326, \"pc3\": 4.2189652565150935, \"tsne1\": -12.419435, \"tsne2\": 10.255878, \"cluster_id\": 13, \"desc_string\": \"EQU24_RS05910|mmoC|2Fe-2S iron-sulfur cluster binding domain-containing protein\", \"exp_condition\": \"medCu\", \"mean\": -2.9897321004585202, \"exp_condition_order\": \"medCu\"}, {\"locus_tag\": \"EQU24_RS05905\", \"gene_symbol\": \"mmoD\", \"product\": \"soluble methane monooxygenase-binding protein MmoD\", \"type\": \"CDS\", \"sys\": \"RepCurCu-no5152\", \"pc1\": -25.48562897417195, \"pc2\": -2.892610146213902, \"pc3\": 4.675498422257813, \"tsne1\": -12.430639, \"tsne2\": 10.260817999999999, \"cluster_id\": 13, \"desc_string\": \"EQU24_RS05905|mmoD|soluble methane monooxygenase-binding protein MmoD\", \"exp_condition\": \"medCu\", \"mean\": -3.0313777535605846, \"exp_condition_order\": \"medCu\"}, {\"locus_tag\": \"EQU24_RS05895\", \"gene_symbol\": \"mmoB\", \"product\": \"methane monooxygenase\", \"type\": \"CDS\", \"sys\": \"smo\", \"pc1\": -29.619136357872186, \"pc2\": -2.4237495260879065, \"pc3\": 5.885855991297372, \"tsne1\": -12.440297, \"tsne2\": 10.274245, \"cluster_id\": 13, \"desc_string\": \"EQU24_RS05895|mmoB|methane monooxygenase\", \"exp_condition\": \"medCu\", \"mean\": -3.112342049050293, \"exp_condition_order\": \"medCu\"}, {\"locus_tag\": \"EQU24_RS05890\", \"gene_symbol\": \"mmoY\", \"product\": \"methane monooxygenase\", \"type\": \"CDS\", \"sys\": \"smo\", \"pc1\": -28.57644507885481, \"pc2\": -2.395856685045718, \"pc3\": 5.760533059710362, \"tsne1\": -12.436286, \"tsne2\": 10.272724, \"cluster_id\": 13, \"desc_string\": \"EQU24_RS05890|mmoY|methane monooxygenase\", \"exp_condition\": \"medCu\", \"mean\": -2.9057063718186824, \"exp_condition_order\": \"medCu\"}, {\"locus_tag\": \"EQU24_RS05885\", \"gene_symbol\": \"mmoX\", \"product\": \"methane monooxygenase\", \"type\": \"CDS\", \"sys\": \"RepCurCu-no5152\", \"pc1\": -30.985025587579674, \"pc2\": -2.348821800731696, \"pc3\": 6.106946547769476, \"tsne1\": -12.442651, \"tsne2\": 10.276721, \"cluster_id\": 13, \"desc_string\": \"EQU24_RS05885|mmoX|methane monooxygenase\", \"exp_condition\": \"medCu\", \"mean\": -3.0526483482083453, \"exp_condition_order\": \"medCu\"}, {\"locus_tag\": \"EQU24_RS05900\", \"gene_symbol\": \"mmoZ\", \"product\": \"hypothetical protein\", \"type\": \"CDS\", \"sys\": \"smo\", \"pc1\": -27.984700359900433, \"pc2\": -2.8623675257166825, \"pc3\": 5.3440022063149035, \"tsne1\": -12.437682, \"tsne2\": 10.270214, \"cluster_id\": 13, \"desc_string\": \"EQU24_RS05900|mmoZ|hypothetical protein\", \"exp_condition\": \"medCu\", \"mean\": -3.1379847977798545, \"exp_condition_order\": \"medCu\"}, {\"locus_tag\": \"EQU24_RS05915\", \"gene_symbol\": \"\", \"product\": \"BLUF domain-containing protein\", \"type\": \"CDS\", \"sys\": \"RepCurCu-no5152\", \"pc1\": -23.423494630042537, \"pc2\": -4.083673474899962, \"pc3\": 3.010572289416393, \"tsne1\": -12.427594000000001, \"tsne2\": 10.231284, \"cluster_id\": 13, \"desc_string\": \"EQU24_RS05915||BLUF domain-containing protein\", \"exp_condition\": \"highCu\", \"mean\": -7.276357785029755, \"exp_condition_order\": \"highCu\"}, {\"locus_tag\": \"EQU24_RS05925\", \"gene_symbol\": \"mmoG\", \"product\": \"likely chaperone for smmo\", \"type\": \"CDS\", \"sys\": \"RepCurCu-no5152\", \"pc1\": -23.13844565888359, \"pc2\": -3.2968282140946, \"pc3\": 2.3346374208758487, \"tsne1\": -12.416947, \"tsne2\": 10.225968, \"cluster_id\": 13, \"desc_string\": \"EQU24_RS05925|mmoG|likely chaperone for smmo\", \"exp_condition\": \"highCu\", \"mean\": -7.105666449099893, \"exp_condition_order\": \"highCu\"}, {\"locus_tag\": \"EQU24_RS05920\", \"gene_symbol\": \"\", \"product\": \"hypothetical protein\", \"type\": \"CDS\", \"sys\": \"RepCurCu-no5152\", \"pc1\": -23.54041795727712, \"pc2\": -3.5460849899231888, \"pc3\": 2.6905664971171364, \"tsne1\": -12.423753999999999, \"tsne2\": 10.233883, \"cluster_id\": 13, \"desc_string\": \"EQU24_RS05920||hypothetical protein\", \"exp_condition\": \"highCu\", \"mean\": -7.358568081749545, \"exp_condition_order\": \"highCu\"}, {\"locus_tag\": \"EQU24_RS05910\", \"gene_symbol\": \"mmoC\", \"product\": \"2Fe-2S iron-sulfur cluster binding domain-containing protein\", \"type\": \"CDS\", \"sys\": \"smo\", \"pc1\": -24.550443283158067, \"pc2\": -2.382542277758326, \"pc3\": 4.2189652565150935, \"tsne1\": -12.419435, \"tsne2\": 10.255878, \"cluster_id\": 13, \"desc_string\": \"EQU24_RS05910|mmoC|2Fe-2S iron-sulfur cluster binding domain-containing protein\", \"exp_condition\": \"highCu\", \"mean\": -7.347239875588131, \"exp_condition_order\": \"highCu\"}, {\"locus_tag\": \"EQU24_RS19520\", \"gene_symbol\": \"\", \"product\": \"type II secretion system protein\", \"type\": \"CDS\", \"sys\": \"secretion\", \"pc1\": -22.355857995409846, \"pc2\": 2.7714456430835814, \"pc3\": 4.610333961857753, \"tsne1\": -12.032574, \"tsne2\": 10.258863999999999, \"cluster_id\": 13, \"desc_string\": \"EQU24_RS19520||type II secretion system protein\", \"exp_condition\": \"highCu\", \"mean\": -5.383150610592331, \"exp_condition_order\": \"highCu\"}, {\"locus_tag\": \"EQU24_RS05900\", \"gene_symbol\": \"mmoZ\", \"product\": \"hypothetical protein\", \"type\": \"CDS\", \"sys\": \"smo\", \"pc1\": -27.984700359900433, \"pc2\": -2.8623675257166825, \"pc3\": 5.3440022063149035, \"tsne1\": -12.437682, \"tsne2\": 10.270214, \"cluster_id\": 13, \"desc_string\": \"EQU24_RS05900|mmoZ|hypothetical protein\", \"exp_condition\": \"highCu\", \"mean\": -8.14689628603511, \"exp_condition_order\": \"highCu\"}, {\"locus_tag\": \"EQU24_RS05895\", \"gene_symbol\": \"mmoB\", \"product\": \"methane monooxygenase\", \"type\": \"CDS\", \"sys\": \"smo\", \"pc1\": -29.619136357872186, \"pc2\": -2.4237495260879065, \"pc3\": 5.885855991297372, \"tsne1\": -12.440297, \"tsne2\": 10.274245, \"cluster_id\": 13, \"desc_string\": \"EQU24_RS05895|mmoB|methane monooxygenase\", \"exp_condition\": \"highCu\", \"mean\": -8.398235140046188, \"exp_condition_order\": \"highCu\"}, {\"locus_tag\": \"EQU24_RS05890\", \"gene_symbol\": \"mmoY\", \"product\": \"methane monooxygenase\", \"type\": \"CDS\", \"sys\": \"smo\", \"pc1\": -28.57644507885481, \"pc2\": -2.395856685045718, \"pc3\": 5.760533059710362, \"tsne1\": -12.436286, \"tsne2\": 10.272724, \"cluster_id\": 13, \"desc_string\": \"EQU24_RS05890|mmoY|methane monooxygenase\", \"exp_condition\": \"highCu\", \"mean\": -8.466652161712188, \"exp_condition_order\": \"highCu\"}, {\"locus_tag\": \"EQU24_RS05885\", \"gene_symbol\": \"mmoX\", \"product\": \"methane monooxygenase\", \"type\": \"CDS\", \"sys\": \"RepCurCu-no5152\", \"pc1\": -30.985025587579674, \"pc2\": -2.348821800731696, \"pc3\": 6.106946547769476, \"tsne1\": -12.442651, \"tsne2\": 10.276721, \"cluster_id\": 13, \"desc_string\": \"EQU24_RS05885|mmoX|methane monooxygenase\", \"exp_condition\": \"highCu\", \"mean\": -8.844837237552811, \"exp_condition_order\": \"highCu\"}, {\"locus_tag\": \"EQU24_RS05905\", \"gene_symbol\": \"mmoD\", \"product\": \"soluble methane monooxygenase-binding protein MmoD\", \"type\": \"CDS\", \"sys\": \"RepCurCu-no5152\", \"pc1\": -25.48562897417195, \"pc2\": -2.892610146213902, \"pc3\": 4.675498422257813, \"tsne1\": -12.430639, \"tsne2\": 10.260817999999999, \"cluster_id\": 13, \"desc_string\": \"EQU24_RS05905|mmoD|soluble methane monooxygenase-binding protein MmoD\", \"exp_condition\": \"highCu\", \"mean\": -7.57529850343505, \"exp_condition_order\": \"highCu\"}, {\"locus_tag\": \"EQU24_RS05925\", \"gene_symbol\": \"mmoG\", \"product\": \"likely chaperone for smmo\", \"type\": \"CDS\", \"sys\": \"RepCurCu-no5152\", \"pc1\": -23.13844565888359, \"pc2\": -3.2968282140946, \"pc3\": 2.3346374208758487, \"tsne1\": -12.416947, \"tsne2\": 10.225968, \"cluster_id\": 13, \"desc_string\": \"EQU24_RS05925|mmoG|likely chaperone for smmo\", \"exp_condition\": \"NO3_lowO2_slow_growth\", \"mean\": -7.544391002611006, \"exp_condition_order\": \"NO3_lowO2_slow_growth\"}, {\"locus_tag\": \"EQU24_RS05920\", \"gene_symbol\": \"\", \"product\": \"hypothetical protein\", \"type\": \"CDS\", \"sys\": \"RepCurCu-no5152\", \"pc1\": -23.54041795727712, \"pc2\": -3.5460849899231888, \"pc3\": 2.6905664971171364, \"tsne1\": -12.423753999999999, \"tsne2\": 10.233883, \"cluster_id\": 13, \"desc_string\": \"EQU24_RS05920||hypothetical protein\", \"exp_condition\": \"NO3_lowO2_slow_growth\", \"mean\": -7.786891014949645, \"exp_condition_order\": \"NO3_lowO2_slow_growth\"}, {\"locus_tag\": \"EQU24_RS05915\", \"gene_symbol\": \"\", \"product\": \"BLUF domain-containing protein\", \"type\": \"CDS\", \"sys\": \"RepCurCu-no5152\", \"pc1\": -23.423494630042537, \"pc2\": -4.083673474899962, \"pc3\": 3.010572289416393, \"tsne1\": -12.427594000000001, \"tsne2\": 10.231284, \"cluster_id\": 13, \"desc_string\": \"EQU24_RS05915||BLUF domain-containing protein\", \"exp_condition\": \"NO3_lowO2_slow_growth\", \"mean\": -7.428116970508458, \"exp_condition_order\": \"NO3_lowO2_slow_growth\"}, {\"locus_tag\": \"EQU24_RS05910\", \"gene_symbol\": \"mmoC\", \"product\": \"2Fe-2S iron-sulfur cluster binding domain-containing protein\", \"type\": \"CDS\", \"sys\": \"smo\", \"pc1\": -24.550443283158067, \"pc2\": -2.382542277758326, \"pc3\": 4.2189652565150935, \"tsne1\": -12.419435, \"tsne2\": 10.255878, \"cluster_id\": 13, \"desc_string\": \"EQU24_RS05910|mmoC|2Fe-2S iron-sulfur cluster binding domain-containing protein\", \"exp_condition\": \"NO3_lowO2_slow_growth\", \"mean\": -7.916774855484043, \"exp_condition_order\": \"NO3_lowO2_slow_growth\"}, {\"locus_tag\": \"EQU24_RS19520\", \"gene_symbol\": \"\", \"product\": \"type II secretion system protein\", \"type\": \"CDS\", \"sys\": \"secretion\", \"pc1\": -22.355857995409846, \"pc2\": 2.7714456430835814, \"pc3\": 4.610333961857753, \"tsne1\": -12.032574, \"tsne2\": 10.258863999999999, \"cluster_id\": 13, \"desc_string\": \"EQU24_RS19520||type II secretion system protein\", \"exp_condition\": \"NO3_lowO2_slow_growth\", \"mean\": -3.0369914473947035, \"exp_condition_order\": \"NO3_lowO2_slow_growth\"}, {\"locus_tag\": \"EQU24_RS05900\", \"gene_symbol\": \"mmoZ\", \"product\": \"hypothetical protein\", \"type\": \"CDS\", \"sys\": \"smo\", \"pc1\": -27.984700359900433, \"pc2\": -2.8623675257166825, \"pc3\": 5.3440022063149035, \"tsne1\": -12.437682, \"tsne2\": 10.270214, \"cluster_id\": 13, \"desc_string\": \"EQU24_RS05900|mmoZ|hypothetical protein\", \"exp_condition\": \"NO3_lowO2_slow_growth\", \"mean\": -8.782452650830184, \"exp_condition_order\": \"NO3_lowO2_slow_growth\"}, {\"locus_tag\": \"EQU24_RS05895\", \"gene_symbol\": \"mmoB\", \"product\": \"methane monooxygenase\", \"type\": \"CDS\", \"sys\": \"smo\", \"pc1\": -29.619136357872186, \"pc2\": -2.4237495260879065, \"pc3\": 5.885855991297372, \"tsne1\": -12.440297, \"tsne2\": 10.274245, \"cluster_id\": 13, \"desc_string\": \"EQU24_RS05895|mmoB|methane monooxygenase\", \"exp_condition\": \"NO3_lowO2_slow_growth\", \"mean\": -9.208961498983037, \"exp_condition_order\": \"NO3_lowO2_slow_growth\"}, {\"locus_tag\": \"EQU24_RS05890\", \"gene_symbol\": \"mmoY\", \"product\": \"methane monooxygenase\", \"type\": \"CDS\", \"sys\": \"smo\", \"pc1\": -28.57644507885481, \"pc2\": -2.395856685045718, \"pc3\": 5.760533059710362, \"tsne1\": -12.436286, \"tsne2\": 10.272724, \"cluster_id\": 13, \"desc_string\": \"EQU24_RS05890|mmoY|methane monooxygenase\", \"exp_condition\": \"NO3_lowO2_slow_growth\", \"mean\": -8.886862765999787, \"exp_condition_order\": \"NO3_lowO2_slow_growth\"}, {\"locus_tag\": \"EQU24_RS05885\", \"gene_symbol\": \"mmoX\", \"product\": \"methane monooxygenase\", \"type\": \"CDS\", \"sys\": \"RepCurCu-no5152\", \"pc1\": -30.985025587579674, \"pc2\": -2.348821800731696, \"pc3\": 6.106946547769476, \"tsne1\": -12.442651, \"tsne2\": 10.276721, \"cluster_id\": 13, \"desc_string\": \"EQU24_RS05885|mmoX|methane monooxygenase\", \"exp_condition\": \"NO3_lowO2_slow_growth\", \"mean\": -9.448220871478755, \"exp_condition_order\": \"NO3_lowO2_slow_growth\"}, {\"locus_tag\": \"EQU24_RS05905\", \"gene_symbol\": \"mmoD\", \"product\": \"soluble methane monooxygenase-binding protein MmoD\", \"type\": \"CDS\", \"sys\": \"RepCurCu-no5152\", \"pc1\": -25.48562897417195, \"pc2\": -2.892610146213902, \"pc3\": 4.675498422257813, \"tsne1\": -12.430639, \"tsne2\": 10.260817999999999, \"cluster_id\": 13, \"desc_string\": \"EQU24_RS05905|mmoD|soluble methane monooxygenase-binding protein MmoD\", \"exp_condition\": \"NO3_lowO2_slow_growth\", \"mean\": -7.989568768293, \"exp_condition_order\": \"NO3_lowO2_slow_growth\"}, {\"locus_tag\": \"EQU24_RS19520\", \"gene_symbol\": \"\", \"product\": \"type II secretion system protein\", \"type\": \"CDS\", \"sys\": \"secretion\", \"pc1\": -22.355857995409846, \"pc2\": 2.7714456430835814, \"pc3\": 4.610333961857753, \"tsne1\": -12.032574, \"tsne2\": 10.258863999999999, \"cluster_id\": 13, \"desc_string\": \"EQU24_RS19520||type II secretion system protein\", \"exp_condition\": \"highO2_slow_growth\", \"mean\": -9.205317645663326, \"exp_condition_order\": \"highO2_slow_growth\"}, {\"locus_tag\": \"EQU24_RS05925\", \"gene_symbol\": \"mmoG\", \"product\": \"likely chaperone for smmo\", \"type\": \"CDS\", \"sys\": \"RepCurCu-no5152\", \"pc1\": -23.13844565888359, \"pc2\": -3.2968282140946, \"pc3\": 2.3346374208758487, \"tsne1\": -12.416947, \"tsne2\": 10.225968, \"cluster_id\": 13, \"desc_string\": \"EQU24_RS05925|mmoG|likely chaperone for smmo\", \"exp_condition\": \"highO2_slow_growth\", \"mean\": -6.389160689459675, \"exp_condition_order\": \"highO2_slow_growth\"}, {\"locus_tag\": \"EQU24_RS05920\", \"gene_symbol\": \"\", \"product\": \"hypothetical protein\", \"type\": \"CDS\", \"sys\": \"RepCurCu-no5152\", \"pc1\": -23.54041795727712, \"pc2\": -3.5460849899231888, \"pc3\": 2.6905664971171364, \"tsne1\": -12.423753999999999, \"tsne2\": 10.233883, \"cluster_id\": 13, \"desc_string\": \"EQU24_RS05920||hypothetical protein\", \"exp_condition\": \"highO2_slow_growth\", \"mean\": -6.411197309585197, \"exp_condition_order\": \"highO2_slow_growth\"}, {\"locus_tag\": \"EQU24_RS05915\", \"gene_symbol\": \"\", \"product\": \"BLUF domain-containing protein\", \"type\": \"CDS\", \"sys\": \"RepCurCu-no5152\", \"pc1\": -23.423494630042537, \"pc2\": -4.083673474899962, \"pc3\": 3.010572289416393, \"tsne1\": -12.427594000000001, \"tsne2\": 10.231284, \"cluster_id\": 13, \"desc_string\": \"EQU24_RS05915||BLUF domain-containing protein\", \"exp_condition\": \"highO2_slow_growth\", \"mean\": -5.732611836124137, \"exp_condition_order\": \"highO2_slow_growth\"}, {\"locus_tag\": \"EQU24_RS05910\", \"gene_symbol\": \"mmoC\", \"product\": \"2Fe-2S iron-sulfur cluster binding domain-containing protein\", \"type\": \"CDS\", \"sys\": \"smo\", \"pc1\": -24.550443283158067, \"pc2\": -2.382542277758326, \"pc3\": 4.2189652565150935, \"tsne1\": -12.419435, \"tsne2\": 10.255878, \"cluster_id\": 13, \"desc_string\": \"EQU24_RS05910|mmoC|2Fe-2S iron-sulfur cluster binding domain-containing protein\", \"exp_condition\": \"highO2_slow_growth\", \"mean\": -6.463464332004353, \"exp_condition_order\": \"highO2_slow_growth\"}, {\"locus_tag\": \"EQU24_RS05905\", \"gene_symbol\": \"mmoD\", \"product\": \"soluble methane monooxygenase-binding protein MmoD\", \"type\": \"CDS\", \"sys\": \"RepCurCu-no5152\", \"pc1\": -25.48562897417195, \"pc2\": -2.892610146213902, \"pc3\": 4.675498422257813, \"tsne1\": -12.430639, \"tsne2\": 10.260817999999999, \"cluster_id\": 13, \"desc_string\": \"EQU24_RS05905|mmoD|soluble methane monooxygenase-binding protein MmoD\", \"exp_condition\": \"highO2_slow_growth\", \"mean\": -6.320342753364262, \"exp_condition_order\": \"highO2_slow_growth\"}, {\"locus_tag\": \"EQU24_RS05895\", \"gene_symbol\": \"mmoB\", \"product\": \"methane monooxygenase\", \"type\": \"CDS\", \"sys\": \"smo\", \"pc1\": -29.619136357872186, \"pc2\": -2.4237495260879065, \"pc3\": 5.885855991297372, \"tsne1\": -12.440297, \"tsne2\": 10.274245, \"cluster_id\": 13, \"desc_string\": \"EQU24_RS05895|mmoB|methane monooxygenase\", \"exp_condition\": \"highO2_slow_growth\", \"mean\": -8.07491932809045, \"exp_condition_order\": \"highO2_slow_growth\"}, {\"locus_tag\": \"EQU24_RS05890\", \"gene_symbol\": \"mmoY\", \"product\": \"methane monooxygenase\", \"type\": \"CDS\", \"sys\": \"smo\", \"pc1\": -28.57644507885481, \"pc2\": -2.395856685045718, \"pc3\": 5.760533059710362, \"tsne1\": -12.436286, \"tsne2\": 10.272724, \"cluster_id\": 13, \"desc_string\": \"EQU24_RS05890|mmoY|methane monooxygenase\", \"exp_condition\": \"highO2_slow_growth\", \"mean\": -7.537469151312307, \"exp_condition_order\": \"highO2_slow_growth\"}, {\"locus_tag\": \"EQU24_RS05885\", \"gene_symbol\": \"mmoX\", \"product\": \"methane monooxygenase\", \"type\": \"CDS\", \"sys\": \"RepCurCu-no5152\", \"pc1\": -30.985025587579674, \"pc2\": -2.348821800731696, \"pc3\": 6.106946547769476, \"tsne1\": -12.442651, \"tsne2\": 10.276721, \"cluster_id\": 13, \"desc_string\": \"EQU24_RS05885|mmoX|methane monooxygenase\", \"exp_condition\": \"highO2_slow_growth\", \"mean\": -8.523650843692693, \"exp_condition_order\": \"highO2_slow_growth\"}, {\"locus_tag\": \"EQU24_RS05900\", \"gene_symbol\": \"mmoZ\", \"product\": \"hypothetical protein\", \"type\": \"CDS\", \"sys\": \"smo\", \"pc1\": -27.984700359900433, \"pc2\": -2.8623675257166825, \"pc3\": 5.3440022063149035, \"tsne1\": -12.437682, \"tsne2\": 10.270214, \"cluster_id\": 13, \"desc_string\": \"EQU24_RS05900|mmoZ|hypothetical protein\", \"exp_condition\": \"highO2_slow_growth\", \"mean\": -7.571186167256452, \"exp_condition_order\": \"highO2_slow_growth\"}, {\"locus_tag\": \"EQU24_RS05915\", \"gene_symbol\": \"\", \"product\": \"BLUF domain-containing protein\", \"type\": \"CDS\", \"sys\": \"RepCurCu-no5152\", \"pc1\": -23.423494630042537, \"pc2\": -4.083673474899962, \"pc3\": 3.010572289416393, \"tsne1\": -12.427594000000001, \"tsne2\": 10.231284, \"cluster_id\": 13, \"desc_string\": \"EQU24_RS05915||BLUF domain-containing protein\", \"exp_condition\": \"lowO2_fast_growth\", \"mean\": -8.0825185956321, \"exp_condition_order\": \"lowO2_fast_growth\"}, {\"locus_tag\": \"EQU24_RS05925\", \"gene_symbol\": \"mmoG\", \"product\": \"likely chaperone for smmo\", \"type\": \"CDS\", \"sys\": \"RepCurCu-no5152\", \"pc1\": -23.13844565888359, \"pc2\": -3.2968282140946, \"pc3\": 2.3346374208758487, \"tsne1\": -12.416947, \"tsne2\": 10.225968, \"cluster_id\": 13, \"desc_string\": \"EQU24_RS05925|mmoG|likely chaperone for smmo\", \"exp_condition\": \"lowO2_fast_growth\", \"mean\": -7.410058410080597, \"exp_condition_order\": \"lowO2_fast_growth\"}, {\"locus_tag\": \"EQU24_RS19520\", \"gene_symbol\": \"\", \"product\": \"type II secretion system protein\", \"type\": \"CDS\", \"sys\": \"secretion\", \"pc1\": -22.355857995409846, \"pc2\": 2.7714456430835814, \"pc3\": 4.610333961857753, \"tsne1\": -12.032574, \"tsne2\": 10.258863999999999, \"cluster_id\": 13, \"desc_string\": \"EQU24_RS19520||type II secretion system protein\", \"exp_condition\": \"lowO2_fast_growth\", \"mean\": -7.623863409447943, \"exp_condition_order\": \"lowO2_fast_growth\"}, {\"locus_tag\": \"EQU24_RS05910\", \"gene_symbol\": \"mmoC\", \"product\": \"2Fe-2S iron-sulfur cluster binding domain-containing protein\", \"type\": \"CDS\", \"sys\": \"smo\", \"pc1\": -24.550443283158067, \"pc2\": -2.382542277758326, \"pc3\": 4.2189652565150935, \"tsne1\": -12.419435, \"tsne2\": 10.255878, \"cluster_id\": 13, \"desc_string\": \"EQU24_RS05910|mmoC|2Fe-2S iron-sulfur cluster binding domain-containing protein\", \"exp_condition\": \"lowO2_fast_growth\", \"mean\": -8.492778123806339, \"exp_condition_order\": \"lowO2_fast_growth\"}, {\"locus_tag\": \"EQU24_RS05920\", \"gene_symbol\": \"\", \"product\": \"hypothetical protein\", \"type\": \"CDS\", \"sys\": \"RepCurCu-no5152\", \"pc1\": -23.54041795727712, \"pc2\": -3.5460849899231888, \"pc3\": 2.6905664971171364, \"tsne1\": -12.423753999999999, \"tsne2\": 10.233883, \"cluster_id\": 13, \"desc_string\": \"EQU24_RS05920||hypothetical protein\", \"exp_condition\": \"lowO2_fast_growth\", \"mean\": -7.751157441962746, \"exp_condition_order\": \"lowO2_fast_growth\"}, {\"locus_tag\": \"EQU24_RS05900\", \"gene_symbol\": \"mmoZ\", \"product\": \"hypothetical protein\", \"type\": \"CDS\", \"sys\": \"smo\", \"pc1\": -27.984700359900433, \"pc2\": -2.8623675257166825, \"pc3\": 5.3440022063149035, \"tsne1\": -12.437682, \"tsne2\": 10.270214, \"cluster_id\": 13, \"desc_string\": \"EQU24_RS05900|mmoZ|hypothetical protein\", \"exp_condition\": \"lowO2_fast_growth\", \"mean\": -9.865875632088557, \"exp_condition_order\": \"lowO2_fast_growth\"}, {\"locus_tag\": \"EQU24_RS05895\", \"gene_symbol\": \"mmoB\", \"product\": \"methane monooxygenase\", \"type\": \"CDS\", \"sys\": \"smo\", \"pc1\": -29.619136357872186, \"pc2\": -2.4237495260879065, \"pc3\": 5.885855991297372, \"tsne1\": -12.440297, \"tsne2\": 10.274245, \"cluster_id\": 13, \"desc_string\": \"EQU24_RS05895|mmoB|methane monooxygenase\", \"exp_condition\": \"lowO2_fast_growth\", \"mean\": -10.423264035968453, \"exp_condition_order\": \"lowO2_fast_growth\"}, {\"locus_tag\": \"EQU24_RS05890\", \"gene_symbol\": \"mmoY\", \"product\": \"methane monooxygenase\", \"type\": \"CDS\", \"sys\": \"smo\", \"pc1\": -28.57644507885481, \"pc2\": -2.395856685045718, \"pc3\": 5.760533059710362, \"tsne1\": -12.436286, \"tsne2\": 10.272724, \"cluster_id\": 13, \"desc_string\": \"EQU24_RS05890|mmoY|methane monooxygenase\", \"exp_condition\": \"lowO2_fast_growth\", \"mean\": -10.015444877658783, \"exp_condition_order\": \"lowO2_fast_growth\"}, {\"locus_tag\": \"EQU24_RS05885\", \"gene_symbol\": \"mmoX\", \"product\": \"methane monooxygenase\", \"type\": \"CDS\", \"sys\": \"RepCurCu-no5152\", \"pc1\": -30.985025587579674, \"pc2\": -2.348821800731696, \"pc3\": 6.106946547769476, \"tsne1\": -12.442651, \"tsne2\": 10.276721, \"cluster_id\": 13, \"desc_string\": \"EQU24_RS05885|mmoX|methane monooxygenase\", \"exp_condition\": \"lowO2_fast_growth\", \"mean\": -10.720448912138087, \"exp_condition_order\": \"lowO2_fast_growth\"}, {\"locus_tag\": \"EQU24_RS05905\", \"gene_symbol\": \"mmoD\", \"product\": \"soluble methane monooxygenase-binding protein MmoD\", \"type\": \"CDS\", \"sys\": \"RepCurCu-no5152\", \"pc1\": -25.48562897417195, \"pc2\": -2.892610146213902, \"pc3\": 4.675498422257813, \"tsne1\": -12.430639, \"tsne2\": 10.260817999999999, \"cluster_id\": 13, \"desc_string\": \"EQU24_RS05905|mmoD|soluble methane monooxygenase-binding protein MmoD\", \"exp_condition\": \"lowO2_fast_growth\", \"mean\": -8.859736053664989, \"exp_condition_order\": \"lowO2_fast_growth\"}, {\"locus_tag\": \"EQU24_RS19520\", \"gene_symbol\": \"\", \"product\": \"type II secretion system protein\", \"type\": \"CDS\", \"sys\": \"secretion\", \"pc1\": -22.355857995409846, \"pc2\": 2.7714456430835814, \"pc3\": 4.610333961857753, \"tsne1\": -12.032574, \"tsne2\": 10.258863999999999, \"cluster_id\": 13, \"desc_string\": \"EQU24_RS19520||type II secretion system protein\", \"exp_condition\": \"MeOH\", \"mean\": -4.722305248577727, \"exp_condition_order\": \"MeOH\"}, {\"locus_tag\": \"EQU24_RS05925\", \"gene_symbol\": \"mmoG\", \"product\": \"likely chaperone for smmo\", \"type\": \"CDS\", \"sys\": \"RepCurCu-no5152\", \"pc1\": -23.13844565888359, \"pc2\": -3.2968282140946, \"pc3\": 2.3346374208758487, \"tsne1\": -12.416947, \"tsne2\": 10.225968, \"cluster_id\": 13, \"desc_string\": \"EQU24_RS05925|mmoG|likely chaperone for smmo\", \"exp_condition\": \"MeOH\", \"mean\": -7.748380314002764, \"exp_condition_order\": \"MeOH\"}, {\"locus_tag\": \"EQU24_RS05920\", \"gene_symbol\": \"\", \"product\": \"hypothetical protein\", \"type\": \"CDS\", \"sys\": \"RepCurCu-no5152\", \"pc1\": -23.54041795727712, \"pc2\": -3.5460849899231888, \"pc3\": 2.6905664971171364, \"tsne1\": -12.423753999999999, \"tsne2\": 10.233883, \"cluster_id\": 13, \"desc_string\": \"EQU24_RS05920||hypothetical protein\", \"exp_condition\": \"MeOH\", \"mean\": -7.941722101521172, \"exp_condition_order\": \"MeOH\"}, {\"locus_tag\": \"EQU24_RS05915\", \"gene_symbol\": \"\", \"product\": \"BLUF domain-containing protein\", \"type\": \"CDS\", \"sys\": \"RepCurCu-no5152\", \"pc1\": -23.423494630042537, \"pc2\": -4.083673474899962, \"pc3\": 3.010572289416393, \"tsne1\": -12.427594000000001, \"tsne2\": 10.231284, \"cluster_id\": 13, \"desc_string\": \"EQU24_RS05915||BLUF domain-containing protein\", \"exp_condition\": \"MeOH\", \"mean\": -8.402133967071963, \"exp_condition_order\": \"MeOH\"}, {\"locus_tag\": \"EQU24_RS05910\", \"gene_symbol\": \"mmoC\", \"product\": \"2Fe-2S iron-sulfur cluster binding domain-containing protein\", \"type\": \"CDS\", \"sys\": \"smo\", \"pc1\": -24.550443283158067, \"pc2\": -2.382542277758326, \"pc3\": 4.2189652565150935, \"tsne1\": -12.419435, \"tsne2\": 10.255878, \"cluster_id\": 13, \"desc_string\": \"EQU24_RS05910|mmoC|2Fe-2S iron-sulfur cluster binding domain-containing protein\", \"exp_condition\": \"MeOH\", \"mean\": -9.131458311904684, \"exp_condition_order\": \"MeOH\"}, {\"locus_tag\": \"EQU24_RS05905\", \"gene_symbol\": \"mmoD\", \"product\": \"soluble methane monooxygenase-binding protein MmoD\", \"type\": \"CDS\", \"sys\": \"RepCurCu-no5152\", \"pc1\": -25.48562897417195, \"pc2\": -2.892610146213902, \"pc3\": 4.675498422257813, \"tsne1\": -12.430639, \"tsne2\": 10.260817999999999, \"cluster_id\": 13, \"desc_string\": \"EQU24_RS05905|mmoD|soluble methane monooxygenase-binding protein MmoD\", \"exp_condition\": \"MeOH\", \"mean\": -10.037275291202839, \"exp_condition_order\": \"MeOH\"}, {\"locus_tag\": \"EQU24_RS05900\", \"gene_symbol\": \"mmoZ\", \"product\": \"hypothetical protein\", \"type\": \"CDS\", \"sys\": \"smo\", \"pc1\": -27.984700359900433, \"pc2\": -2.8623675257166825, \"pc3\": 5.3440022063149035, \"tsne1\": -12.437682, \"tsne2\": 10.270214, \"cluster_id\": 13, \"desc_string\": \"EQU24_RS05900|mmoZ|hypothetical protein\", \"exp_condition\": \"MeOH\", \"mean\": -10.80454343364913, \"exp_condition_order\": \"MeOH\"}, {\"locus_tag\": \"EQU24_RS05895\", \"gene_symbol\": \"mmoB\", \"product\": \"methane monooxygenase\", \"type\": \"CDS\", \"sys\": \"smo\", \"pc1\": -29.619136357872186, \"pc2\": -2.4237495260879065, \"pc3\": 5.885855991297372, \"tsne1\": -12.440297, \"tsne2\": 10.274245, \"cluster_id\": 13, \"desc_string\": \"EQU24_RS05895|mmoB|methane monooxygenase\", \"exp_condition\": \"MeOH\", \"mean\": -11.625243762183773, \"exp_condition_order\": \"MeOH\"}, {\"locus_tag\": \"EQU24_RS05890\", \"gene_symbol\": \"mmoY\", \"product\": \"methane monooxygenase\", \"type\": \"CDS\", \"sys\": \"smo\", \"pc1\": -28.57644507885481, \"pc2\": -2.395856685045718, \"pc3\": 5.760533059710362, \"tsne1\": -12.436286, \"tsne2\": 10.272724, \"cluster_id\": 13, \"desc_string\": \"EQU24_RS05890|mmoY|methane monooxygenase\", \"exp_condition\": \"MeOH\", \"mean\": -11.0210307487099, \"exp_condition_order\": \"MeOH\"}, {\"locus_tag\": \"EQU24_RS05885\", \"gene_symbol\": \"mmoX\", \"product\": \"methane monooxygenase\", \"type\": \"CDS\", \"sys\": \"RepCurCu-no5152\", \"pc1\": -30.985025587579674, \"pc2\": -2.348821800731696, \"pc3\": 6.106946547769476, \"tsne1\": -12.442651, \"tsne2\": 10.276721, \"cluster_id\": 13, \"desc_string\": \"EQU24_RS05885|mmoX|methane monooxygenase\", \"exp_condition\": \"MeOH\", \"mean\": -12.281386694462721, \"exp_condition_order\": \"MeOH\"}, {\"locus_tag\": \"EQU24_RS05925\", \"gene_symbol\": \"mmoG\", \"product\": \"likely chaperone for smmo\", \"type\": \"CDS\", \"sys\": \"RepCurCu-no5152\", \"pc1\": -23.13844565888359, \"pc2\": -3.2968282140946, \"pc3\": 2.3346374208758487, \"tsne1\": -12.416947, \"tsne2\": 10.225968, \"cluster_id\": 13, \"desc_string\": \"EQU24_RS05925|mmoG|likely chaperone for smmo\", \"exp_condition\": \"NoLanthanum\", \"mean\": -7.0032092159581705, \"exp_condition_order\": \"NoLanthanum\"}, {\"locus_tag\": \"EQU24_RS05920\", \"gene_symbol\": \"\", \"product\": \"hypothetical protein\", \"type\": \"CDS\", \"sys\": \"RepCurCu-no5152\", \"pc1\": -23.54041795727712, \"pc2\": -3.5460849899231888, \"pc3\": 2.6905664971171364, \"tsne1\": -12.423753999999999, \"tsne2\": 10.233883, \"cluster_id\": 13, \"desc_string\": \"EQU24_RS05920||hypothetical protein\", \"exp_condition\": \"NoLanthanum\", \"mean\": -6.841637372413151, \"exp_condition_order\": \"NoLanthanum\"}, {\"locus_tag\": \"EQU24_RS19520\", \"gene_symbol\": \"\", \"product\": \"type II secretion system protein\", \"type\": \"CDS\", \"sys\": \"secretion\", \"pc1\": -22.355857995409846, \"pc2\": 2.7714456430835814, \"pc3\": 4.610333961857753, \"tsne1\": -12.032574, \"tsne2\": 10.258863999999999, \"cluster_id\": 13, \"desc_string\": \"EQU24_RS19520||type II secretion system protein\", \"exp_condition\": \"NoLanthanum\", \"mean\": -10.957171493486085, \"exp_condition_order\": \"NoLanthanum\"}, {\"locus_tag\": \"EQU24_RS05915\", \"gene_symbol\": \"\", \"product\": \"BLUF domain-containing protein\", \"type\": \"CDS\", \"sys\": \"RepCurCu-no5152\", \"pc1\": -23.423494630042537, \"pc2\": -4.083673474899962, \"pc3\": 3.010572289416393, \"tsne1\": -12.427594000000001, \"tsne2\": 10.231284, \"cluster_id\": 13, \"desc_string\": \"EQU24_RS05915||BLUF domain-containing protein\", \"exp_condition\": \"NoLanthanum\", \"mean\": -6.401432737956943, \"exp_condition_order\": \"NoLanthanum\"}, {\"locus_tag\": \"EQU24_RS05910\", \"gene_symbol\": \"mmoC\", \"product\": \"2Fe-2S iron-sulfur cluster binding domain-containing protein\", \"type\": \"CDS\", \"sys\": \"smo\", \"pc1\": -24.550443283158067, \"pc2\": -2.382542277758326, \"pc3\": 4.2189652565150935, \"tsne1\": -12.419435, \"tsne2\": 10.255878, \"cluster_id\": 13, \"desc_string\": \"EQU24_RS05910|mmoC|2Fe-2S iron-sulfur cluster binding domain-containing protein\", \"exp_condition\": \"NoLanthanum\", \"mean\": -7.7172990993054285, \"exp_condition_order\": \"NoLanthanum\"}, {\"locus_tag\": \"EQU24_RS05895\", \"gene_symbol\": \"mmoB\", \"product\": \"methane monooxygenase\", \"type\": \"CDS\", \"sys\": \"smo\", \"pc1\": -29.619136357872186, \"pc2\": -2.4237495260879065, \"pc3\": 5.885855991297372, \"tsne1\": -12.440297, \"tsne2\": 10.274245, \"cluster_id\": 13, \"desc_string\": \"EQU24_RS05895|mmoB|methane monooxygenase\", \"exp_condition\": \"NoLanthanum\", \"mean\": -9.132971202936767, \"exp_condition_order\": \"NoLanthanum\"}, {\"locus_tag\": \"EQU24_RS05900\", \"gene_symbol\": \"mmoZ\", \"product\": \"hypothetical protein\", \"type\": \"CDS\", \"sys\": \"smo\", \"pc1\": -27.984700359900433, \"pc2\": -2.8623675257166825, \"pc3\": 5.3440022063149035, \"tsne1\": -12.437682, \"tsne2\": 10.270214, \"cluster_id\": 13, \"desc_string\": \"EQU24_RS05900|mmoZ|hypothetical protein\", \"exp_condition\": \"NoLanthanum\", \"mean\": -8.118291478476053, \"exp_condition_order\": \"NoLanthanum\"}, {\"locus_tag\": \"EQU24_RS05890\", \"gene_symbol\": \"mmoY\", \"product\": \"methane monooxygenase\", \"type\": \"CDS\", \"sys\": \"smo\", \"pc1\": -28.57644507885481, \"pc2\": -2.395856685045718, \"pc3\": 5.760533059710362, \"tsne1\": -12.436286, \"tsne2\": 10.272724, \"cluster_id\": 13, \"desc_string\": \"EQU24_RS05890|mmoY|methane monooxygenase\", \"exp_condition\": \"NoLanthanum\", \"mean\": -8.86648710071738, \"exp_condition_order\": \"NoLanthanum\"}, {\"locus_tag\": \"EQU24_RS05885\", \"gene_symbol\": \"mmoX\", \"product\": \"methane monooxygenase\", \"type\": \"CDS\", \"sys\": \"RepCurCu-no5152\", \"pc1\": -30.985025587579674, \"pc2\": -2.348821800731696, \"pc3\": 6.106946547769476, \"tsne1\": -12.442651, \"tsne2\": 10.276721, \"cluster_id\": 13, \"desc_string\": \"EQU24_RS05885|mmoX|methane monooxygenase\", \"exp_condition\": \"NoLanthanum\", \"mean\": -9.722349785204742, \"exp_condition_order\": \"NoLanthanum\"}, {\"locus_tag\": \"EQU24_RS05905\", \"gene_symbol\": \"mmoD\", \"product\": \"soluble methane monooxygenase-binding protein MmoD\", \"type\": \"CDS\", \"sys\": \"RepCurCu-no5152\", \"pc1\": -25.48562897417195, \"pc2\": -2.892610146213902, \"pc3\": 4.675498422257813, \"tsne1\": -12.430639, \"tsne2\": 10.260817999999999, \"cluster_id\": 13, \"desc_string\": \"EQU24_RS05905|mmoD|soluble methane monooxygenase-binding protein MmoD\", \"exp_condition\": \"NoLanthanum\", \"mean\": -7.759082406194795, \"exp_condition_order\": \"NoLanthanum\"}, {\"locus_tag\": \"EQU24_RS05925\", \"gene_symbol\": \"mmoG\", \"product\": \"likely chaperone for smmo\", \"type\": \"CDS\", \"sys\": \"RepCurCu-no5152\", \"pc1\": -23.13844565888359, \"pc2\": -3.2968282140946, \"pc3\": 2.3346374208758487, \"tsne1\": -12.416947, \"tsne2\": 10.225968, \"cluster_id\": 13, \"desc_string\": \"EQU24_RS05925|mmoG|likely chaperone for smmo\", \"exp_condition\": \"WithLanthanum\", \"mean\": -6.874241440396202, \"exp_condition_order\": \"WithLanthanum\"}, {\"locus_tag\": \"EQU24_RS05885\", \"gene_symbol\": \"mmoX\", \"product\": \"methane monooxygenase\", \"type\": \"CDS\", \"sys\": \"RepCurCu-no5152\", \"pc1\": -30.985025587579674, \"pc2\": -2.348821800731696, \"pc3\": 6.106946547769476, \"tsne1\": -12.442651, \"tsne2\": 10.276721, \"cluster_id\": 13, \"desc_string\": \"EQU24_RS05885|mmoX|methane monooxygenase\", \"exp_condition\": \"WithLanthanum\", \"mean\": -9.43402717075666, \"exp_condition_order\": \"WithLanthanum\"}, {\"locus_tag\": \"EQU24_RS05890\", \"gene_symbol\": \"mmoY\", \"product\": \"methane monooxygenase\", \"type\": \"CDS\", \"sys\": \"smo\", \"pc1\": -28.57644507885481, \"pc2\": -2.395856685045718, \"pc3\": 5.760533059710362, \"tsne1\": -12.436286, \"tsne2\": 10.272724, \"cluster_id\": 13, \"desc_string\": \"EQU24_RS05890|mmoY|methane monooxygenase\", \"exp_condition\": \"WithLanthanum\", \"mean\": -8.658511977185839, \"exp_condition_order\": \"WithLanthanum\"}, {\"locus_tag\": \"EQU24_RS05895\", \"gene_symbol\": \"mmoB\", \"product\": \"methane monooxygenase\", \"type\": \"CDS\", \"sys\": \"smo\", \"pc1\": -29.619136357872186, \"pc2\": -2.4237495260879065, \"pc3\": 5.885855991297372, \"tsne1\": -12.440297, \"tsne2\": 10.274245, \"cluster_id\": 13, \"desc_string\": \"EQU24_RS05895|mmoB|methane monooxygenase\", \"exp_condition\": \"WithLanthanum\", \"mean\": -8.70191788689749, \"exp_condition_order\": \"WithLanthanum\"}, {\"locus_tag\": \"EQU24_RS05900\", \"gene_symbol\": \"mmoZ\", \"product\": \"hypothetical protein\", \"type\": \"CDS\", \"sys\": \"smo\", \"pc1\": -27.984700359900433, \"pc2\": -2.8623675257166825, \"pc3\": 5.3440022063149035, \"tsne1\": -12.437682, \"tsne2\": 10.270214, \"cluster_id\": 13, \"desc_string\": \"EQU24_RS05900|mmoZ|hypothetical protein\", \"exp_condition\": \"WithLanthanum\", \"mean\": -7.9416832469222305, \"exp_condition_order\": \"WithLanthanum\"}, {\"locus_tag\": \"EQU24_RS05905\", \"gene_symbol\": \"mmoD\", \"product\": \"soluble methane monooxygenase-binding protein MmoD\", \"type\": \"CDS\", \"sys\": \"RepCurCu-no5152\", \"pc1\": -25.48562897417195, \"pc2\": -2.892610146213902, \"pc3\": 4.675498422257813, \"tsne1\": -12.430639, \"tsne2\": 10.260817999999999, \"cluster_id\": 13, \"desc_string\": \"EQU24_RS05905|mmoD|soluble methane monooxygenase-binding protein MmoD\", \"exp_condition\": \"WithLanthanum\", \"mean\": -7.306020998613738, \"exp_condition_order\": \"WithLanthanum\"}, {\"locus_tag\": \"EQU24_RS05910\", \"gene_symbol\": \"mmoC\", \"product\": \"2Fe-2S iron-sulfur cluster binding domain-containing protein\", \"type\": \"CDS\", \"sys\": \"smo\", \"pc1\": -24.550443283158067, \"pc2\": -2.382542277758326, \"pc3\": 4.2189652565150935, \"tsne1\": -12.419435, \"tsne2\": 10.255878, \"cluster_id\": 13, \"desc_string\": \"EQU24_RS05910|mmoC|2Fe-2S iron-sulfur cluster binding domain-containing protein\", \"exp_condition\": \"WithLanthanum\", \"mean\": -7.54072914189223, \"exp_condition_order\": \"WithLanthanum\"}, {\"locus_tag\": \"EQU24_RS05915\", \"gene_symbol\": \"\", \"product\": \"BLUF domain-containing protein\", \"type\": \"CDS\", \"sys\": \"RepCurCu-no5152\", \"pc1\": -23.423494630042537, \"pc2\": -4.083673474899962, \"pc3\": 3.010572289416393, \"tsne1\": -12.427594000000001, \"tsne2\": 10.231284, \"cluster_id\": 13, \"desc_string\": \"EQU24_RS05915||BLUF domain-containing protein\", \"exp_condition\": \"WithLanthanum\", \"mean\": -6.042550958815086, \"exp_condition_order\": \"WithLanthanum\"}, {\"locus_tag\": \"EQU24_RS05920\", \"gene_symbol\": \"\", \"product\": \"hypothetical protein\", \"type\": \"CDS\", \"sys\": \"RepCurCu-no5152\", \"pc1\": -23.54041795727712, \"pc2\": -3.5460849899231888, \"pc3\": 2.6905664971171364, \"tsne1\": -12.423753999999999, \"tsne2\": 10.233883, \"cluster_id\": 13, \"desc_string\": \"EQU24_RS05920||hypothetical protein\", \"exp_condition\": \"WithLanthanum\", \"mean\": -6.644235439244218, \"exp_condition_order\": \"WithLanthanum\"}, {\"locus_tag\": \"EQU24_RS19520\", \"gene_symbol\": \"\", \"product\": \"type II secretion system protein\", \"type\": \"CDS\", \"sys\": \"secretion\", \"pc1\": -22.355857995409846, \"pc2\": 2.7714456430835814, \"pc3\": 4.610333961857753, \"tsne1\": -12.032574, \"tsne2\": 10.258863999999999, \"cluster_id\": 13, \"desc_string\": \"EQU24_RS19520||type II secretion system protein\", \"exp_condition\": \"WithLanthanum\", \"mean\": -10.930748779689326, \"exp_condition_order\": \"WithLanthanum\"}]}}, {\"mode\": \"vega-lite\"});\n",
       "</script>"
      ],
      "text/plain": [
       "alt.LayerChart(...)"
      ]
     },
     "execution_count": 44,
     "metadata": {},
     "output_type": "execute_result"
    }
   ],
   "source": [
    "check_cluster_expression(\n",
    "    mdf_piv_norm_nocu_subset_clust_df, \n",
    "    exp_subset,\n",
    "    13,\n",
    "    \"norm nocu subset, cluster 13\")"
   ]
  },
  {
   "cell_type": "code",
   "execution_count": null,
   "metadata": {},
   "outputs": [],
   "source": []
  },
  {
   "cell_type": "markdown",
   "metadata": {},
   "source": [
    "# Other analyses\n",
    "* Was 20 a good choice for k?\n",
    "  * \"elbow method\"\n",
    "  * silhouette analysis\n",
    "  * Are clusters stable?\n",
    "* Try other clustering methods\n",
    "  * DBSCAN\n",
    "* Filter out extremely low expression genes"
   ]
  },
  {
   "cell_type": "code",
   "execution_count": null,
   "metadata": {},
   "outputs": [],
   "source": []
  },
  {
   "cell_type": "code",
   "execution_count": null,
   "metadata": {},
   "outputs": [],
   "source": []
  }
 ],
 "metadata": {
  "kernelspec": {
   "display_name": "Python 3",
   "language": "python",
   "name": "python3"
  },
  "language_info": {
   "codemirror_mode": {
    "name": "ipython",
    "version": 3
   },
   "file_extension": ".py",
   "mimetype": "text/x-python",
   "name": "python",
   "nbconvert_exporter": "python",
   "pygments_lexer": "ipython3",
   "version": "3.8.5"
  }
 },
 "nbformat": 4,
 "nbformat_minor": 4
}
